{
 "cells": [
  {
   "cell_type": "markdown",
   "metadata": {},
   "source": [
    "# Price Prediction using Regression"
   ]
  },
  {
   "cell_type": "markdown",
   "metadata": {},
   "source": [
    "This is a tickets pricing monitoring system. It scrapes tickets pricing data periodically and stores it in a database. Ticket pricing changes based on demand and time, and there can be significant difference in price. We are creating this product mainly with ourselves in mind. Users can set up alarms using an email, choosing an origin and destination (cities), time (date and hour range picker) choosing a price reduction over mean price, etc."
   ]
  },
  {
   "cell_type": "markdown",
   "metadata": {},
   "source": [
    "**Following is the description for columns in the dataset**<br>\n",
    "- insert_date: date and time when the price was collected and written in the database<br>\n",
    "- origin: origin city <br>\n",
    "- destination: destination city <br>\n",
    "- start_date: train departure time<br>\n",
    "- end_date: train arrival time<br>\n",
    "- train_type: train service name<br>\n",
    "- price: price<br>\n",
    "- train_class: ticket class, tourist, business, etc.<br>\n",
    "- fare: ticket fare, round trip, etc <br>"
   ]
  },
  {
   "cell_type": "code",
   "execution_count": 108,
   "metadata": {},
   "outputs": [],
   "source": [
    "import pandas as pd\n",
    "import numpy as np\n",
    "import seaborn as sns\n",
    "import matplotlib.pyplot as plt\n",
    "\n",
    "%matplotlib inline\n",
    "sns.set()"
   ]
  },
  {
   "cell_type": "markdown",
   "metadata": {},
   "source": [
    "#### **Task 1: Import Dataset and create a copy of that dataset**"
   ]
  },
  {
   "cell_type": "code",
   "execution_count": 109,
   "metadata": {},
   "outputs": [],
   "source": [
    "#write code here\n",
    "data = pd.read_csv(\"data1.csv\")\n",
    "df= data"
   ]
  },
  {
   "cell_type": "markdown",
   "metadata": {},
   "source": [
    "#### **Task 2: Display first five rows** "
   ]
  },
  {
   "cell_type": "code",
   "execution_count": 110,
   "metadata": {},
   "outputs": [
    {
     "data": {
      "text/html": [
       "<div>\n",
       "<style scoped>\n",
       "    .dataframe tbody tr th:only-of-type {\n",
       "        vertical-align: middle;\n",
       "    }\n",
       "\n",
       "    .dataframe tbody tr th {\n",
       "        vertical-align: top;\n",
       "    }\n",
       "\n",
       "    .dataframe thead th {\n",
       "        text-align: right;\n",
       "    }\n",
       "</style>\n",
       "<table border=\"1\" class=\"dataframe\">\n",
       "  <thead>\n",
       "    <tr style=\"text-align: right;\">\n",
       "      <th></th>\n",
       "      <th>Unnamed: 0</th>\n",
       "      <th>insert_date</th>\n",
       "      <th>origin</th>\n",
       "      <th>destination</th>\n",
       "      <th>start_date</th>\n",
       "      <th>end_date</th>\n",
       "      <th>train_type</th>\n",
       "      <th>price</th>\n",
       "      <th>train_class</th>\n",
       "      <th>fare</th>\n",
       "    </tr>\n",
       "  </thead>\n",
       "  <tbody>\n",
       "    <tr>\n",
       "      <th>0</th>\n",
       "      <td>702</td>\n",
       "      <td>2019-04-19 05:37:35</td>\n",
       "      <td>PONFERRADA</td>\n",
       "      <td>MADRID</td>\n",
       "      <td>2019-06-02 15:00:00</td>\n",
       "      <td>2019-06-02 19:42:00</td>\n",
       "      <td>MD-AVE</td>\n",
       "      <td>59.50</td>\n",
       "      <td>Turista con enlace</td>\n",
       "      <td>Flexible</td>\n",
       "    </tr>\n",
       "    <tr>\n",
       "      <th>1</th>\n",
       "      <td>703</td>\n",
       "      <td>2019-04-19 05:37:35</td>\n",
       "      <td>PONFERRADA</td>\n",
       "      <td>MADRID</td>\n",
       "      <td>2019-06-02 17:15:00</td>\n",
       "      <td>2019-06-02 23:03:00</td>\n",
       "      <td>MD-AVE</td>\n",
       "      <td>34.65</td>\n",
       "      <td>Turista con enlace</td>\n",
       "      <td>Promo +</td>\n",
       "    </tr>\n",
       "    <tr>\n",
       "      <th>2</th>\n",
       "      <td>704</td>\n",
       "      <td>2019-04-19 05:37:35</td>\n",
       "      <td>PONFERRADA</td>\n",
       "      <td>MADRID</td>\n",
       "      <td>2019-06-02 17:15:00</td>\n",
       "      <td>2019-06-02 23:10:00</td>\n",
       "      <td>MD-LD</td>\n",
       "      <td>39.95</td>\n",
       "      <td>Turista con enlace</td>\n",
       "      <td>Promo +</td>\n",
       "    </tr>\n",
       "    <tr>\n",
       "      <th>3</th>\n",
       "      <td>705</td>\n",
       "      <td>2019-04-19 05:37:35</td>\n",
       "      <td>PONFERRADA</td>\n",
       "      <td>MADRID</td>\n",
       "      <td>2019-06-02 17:15:00</td>\n",
       "      <td>2019-06-02 22:14:00</td>\n",
       "      <td>MD-AVE</td>\n",
       "      <td>40.60</td>\n",
       "      <td>Turista con enlace</td>\n",
       "      <td>Promo +</td>\n",
       "    </tr>\n",
       "    <tr>\n",
       "      <th>4</th>\n",
       "      <td>706</td>\n",
       "      <td>2019-04-19 05:37:35</td>\n",
       "      <td>PONFERRADA</td>\n",
       "      <td>MADRID</td>\n",
       "      <td>2019-06-02 18:55:00</td>\n",
       "      <td>2019-06-02 23:03:00</td>\n",
       "      <td>ALVIA</td>\n",
       "      <td>27.90</td>\n",
       "      <td>Turista</td>\n",
       "      <td>Promo</td>\n",
       "    </tr>\n",
       "  </tbody>\n",
       "</table>\n",
       "</div>"
      ],
      "text/plain": [
       "   Unnamed: 0          insert_date      origin destination  \\\n",
       "0         702  2019-04-19 05:37:35  PONFERRADA      MADRID   \n",
       "1         703  2019-04-19 05:37:35  PONFERRADA      MADRID   \n",
       "2         704  2019-04-19 05:37:35  PONFERRADA      MADRID   \n",
       "3         705  2019-04-19 05:37:35  PONFERRADA      MADRID   \n",
       "4         706  2019-04-19 05:37:35  PONFERRADA      MADRID   \n",
       "\n",
       "            start_date             end_date train_type  price  \\\n",
       "0  2019-06-02 15:00:00  2019-06-02 19:42:00     MD-AVE  59.50   \n",
       "1  2019-06-02 17:15:00  2019-06-02 23:03:00     MD-AVE  34.65   \n",
       "2  2019-06-02 17:15:00  2019-06-02 23:10:00      MD-LD  39.95   \n",
       "3  2019-06-02 17:15:00  2019-06-02 22:14:00     MD-AVE  40.60   \n",
       "4  2019-06-02 18:55:00  2019-06-02 23:03:00      ALVIA  27.90   \n",
       "\n",
       "          train_class      fare  \n",
       "0  Turista con enlace  Flexible  \n",
       "1  Turista con enlace   Promo +  \n",
       "2  Turista con enlace   Promo +  \n",
       "3  Turista con enlace   Promo +  \n",
       "4             Turista     Promo  "
      ]
     },
     "execution_count": 110,
     "metadata": {},
     "output_type": "execute_result"
    }
   ],
   "source": [
    "#write code here\n",
    "df.head()"
   ]
  },
  {
   "cell_type": "markdown",
   "metadata": {},
   "source": [
    "#### **Task 3: Drop 'unnamed: 0' column**"
   ]
  },
  {
   "cell_type": "code",
   "execution_count": 111,
   "metadata": {},
   "outputs": [],
   "source": [
    "#write code here\n",
    "df= df.drop([\"Unnamed: 0\"], axis=1)"
   ]
  },
  {
   "cell_type": "markdown",
   "metadata": {},
   "source": [
    "#### **Task 4: Check the number of rows and columns**"
   ]
  },
  {
   "cell_type": "code",
   "execution_count": 112,
   "metadata": {},
   "outputs": [
    {
     "data": {
      "text/plain": [
       "(215909, 9)"
      ]
     },
     "execution_count": 112,
     "metadata": {},
     "output_type": "execute_result"
    }
   ],
   "source": [
    "#write code here\n",
    "df.shape"
   ]
  },
  {
   "cell_type": "markdown",
   "metadata": {},
   "source": [
    "#### **Task 5: Check data types of all columns**"
   ]
  },
  {
   "cell_type": "code",
   "execution_count": 113,
   "metadata": {},
   "outputs": [
    {
     "data": {
      "text/plain": [
       "Index(['insert_date', 'origin', 'destination', 'start_date', 'end_date',\n",
       "       'train_type', 'price', 'train_class', 'fare'],\n",
       "      dtype='object')"
      ]
     },
     "execution_count": 113,
     "metadata": {},
     "output_type": "execute_result"
    }
   ],
   "source": [
    "#write code here\n",
    "df.dtypes"
   ]
  },
  {
   "cell_type": "markdown",
   "metadata": {},
   "source": [
    "#### **Task 6: Check summary statistics**"
   ]
  },
  {
   "cell_type": "code",
   "execution_count": 114,
   "metadata": {},
   "outputs": [
    {
     "data": {
      "text/html": [
       "<div>\n",
       "<style scoped>\n",
       "    .dataframe tbody tr th:only-of-type {\n",
       "        vertical-align: middle;\n",
       "    }\n",
       "\n",
       "    .dataframe tbody tr th {\n",
       "        vertical-align: top;\n",
       "    }\n",
       "\n",
       "    .dataframe thead th {\n",
       "        text-align: right;\n",
       "    }\n",
       "</style>\n",
       "<table border=\"1\" class=\"dataframe\">\n",
       "  <thead>\n",
       "    <tr style=\"text-align: right;\">\n",
       "      <th></th>\n",
       "      <th>price</th>\n",
       "    </tr>\n",
       "  </thead>\n",
       "  <tbody>\n",
       "    <tr>\n",
       "      <th>count</th>\n",
       "      <td>202321.000000</td>\n",
       "    </tr>\n",
       "    <tr>\n",
       "      <th>mean</th>\n",
       "      <td>56.723877</td>\n",
       "    </tr>\n",
       "    <tr>\n",
       "      <th>std</th>\n",
       "      <td>25.531787</td>\n",
       "    </tr>\n",
       "    <tr>\n",
       "      <th>min</th>\n",
       "      <td>16.600000</td>\n",
       "    </tr>\n",
       "    <tr>\n",
       "      <th>25%</th>\n",
       "      <td>28.350000</td>\n",
       "    </tr>\n",
       "    <tr>\n",
       "      <th>50%</th>\n",
       "      <td>53.400000</td>\n",
       "    </tr>\n",
       "    <tr>\n",
       "      <th>75%</th>\n",
       "      <td>76.300000</td>\n",
       "    </tr>\n",
       "    <tr>\n",
       "      <th>max</th>\n",
       "      <td>206.800000</td>\n",
       "    </tr>\n",
       "  </tbody>\n",
       "</table>\n",
       "</div>"
      ],
      "text/plain": [
       "               price\n",
       "count  202321.000000\n",
       "mean       56.723877\n",
       "std        25.531787\n",
       "min        16.600000\n",
       "25%        28.350000\n",
       "50%        53.400000\n",
       "75%        76.300000\n",
       "max       206.800000"
      ]
     },
     "execution_count": 114,
     "metadata": {},
     "output_type": "execute_result"
    }
   ],
   "source": [
    "#write code here\n",
    "df.describe()"
   ]
  },
  {
   "cell_type": "markdown",
   "metadata": {},
   "source": [
    "#### **Task 7: Check summary statistics of all columns, including object dataypes**"
   ]
  },
  {
   "cell_type": "code",
   "execution_count": 115,
   "metadata": {},
   "outputs": [
    {
     "data": {
      "text/html": [
       "<div>\n",
       "<style scoped>\n",
       "    .dataframe tbody tr th:only-of-type {\n",
       "        vertical-align: middle;\n",
       "    }\n",
       "\n",
       "    .dataframe tbody tr th {\n",
       "        vertical-align: top;\n",
       "    }\n",
       "\n",
       "    .dataframe thead th {\n",
       "        text-align: right;\n",
       "    }\n",
       "</style>\n",
       "<table border=\"1\" class=\"dataframe\">\n",
       "  <thead>\n",
       "    <tr style=\"text-align: right;\">\n",
       "      <th></th>\n",
       "      <th>insert_date</th>\n",
       "      <th>origin</th>\n",
       "      <th>destination</th>\n",
       "      <th>start_date</th>\n",
       "      <th>end_date</th>\n",
       "      <th>train_type</th>\n",
       "      <th>price</th>\n",
       "      <th>train_class</th>\n",
       "      <th>fare</th>\n",
       "    </tr>\n",
       "  </thead>\n",
       "  <tbody>\n",
       "    <tr>\n",
       "      <th>count</th>\n",
       "      <td>215909</td>\n",
       "      <td>215909</td>\n",
       "      <td>215909</td>\n",
       "      <td>215909</td>\n",
       "      <td>215909</td>\n",
       "      <td>215909</td>\n",
       "      <td>202321.000000</td>\n",
       "      <td>215266</td>\n",
       "      <td>215266</td>\n",
       "    </tr>\n",
       "    <tr>\n",
       "      <th>unique</th>\n",
       "      <td>30543</td>\n",
       "      <td>5</td>\n",
       "      <td>5</td>\n",
       "      <td>2231</td>\n",
       "      <td>2870</td>\n",
       "      <td>16</td>\n",
       "      <td>NaN</td>\n",
       "      <td>5</td>\n",
       "      <td>5</td>\n",
       "    </tr>\n",
       "    <tr>\n",
       "      <th>top</th>\n",
       "      <td>2019-05-09 15:02:02</td>\n",
       "      <td>MADRID</td>\n",
       "      <td>MADRID</td>\n",
       "      <td>2019-06-02 17:30:00</td>\n",
       "      <td>2019-06-02 23:03:00</td>\n",
       "      <td>AVE</td>\n",
       "      <td>NaN</td>\n",
       "      <td>Turista</td>\n",
       "      <td>Promo</td>\n",
       "    </tr>\n",
       "    <tr>\n",
       "      <th>freq</th>\n",
       "      <td>90</td>\n",
       "      <td>110440</td>\n",
       "      <td>105469</td>\n",
       "      <td>2089</td>\n",
       "      <td>1278</td>\n",
       "      <td>126577</td>\n",
       "      <td>NaN</td>\n",
       "      <td>164016</td>\n",
       "      <td>132065</td>\n",
       "    </tr>\n",
       "    <tr>\n",
       "      <th>mean</th>\n",
       "      <td>NaN</td>\n",
       "      <td>NaN</td>\n",
       "      <td>NaN</td>\n",
       "      <td>NaN</td>\n",
       "      <td>NaN</td>\n",
       "      <td>NaN</td>\n",
       "      <td>56.723877</td>\n",
       "      <td>NaN</td>\n",
       "      <td>NaN</td>\n",
       "    </tr>\n",
       "    <tr>\n",
       "      <th>std</th>\n",
       "      <td>NaN</td>\n",
       "      <td>NaN</td>\n",
       "      <td>NaN</td>\n",
       "      <td>NaN</td>\n",
       "      <td>NaN</td>\n",
       "      <td>NaN</td>\n",
       "      <td>25.531787</td>\n",
       "      <td>NaN</td>\n",
       "      <td>NaN</td>\n",
       "    </tr>\n",
       "    <tr>\n",
       "      <th>min</th>\n",
       "      <td>NaN</td>\n",
       "      <td>NaN</td>\n",
       "      <td>NaN</td>\n",
       "      <td>NaN</td>\n",
       "      <td>NaN</td>\n",
       "      <td>NaN</td>\n",
       "      <td>16.600000</td>\n",
       "      <td>NaN</td>\n",
       "      <td>NaN</td>\n",
       "    </tr>\n",
       "    <tr>\n",
       "      <th>25%</th>\n",
       "      <td>NaN</td>\n",
       "      <td>NaN</td>\n",
       "      <td>NaN</td>\n",
       "      <td>NaN</td>\n",
       "      <td>NaN</td>\n",
       "      <td>NaN</td>\n",
       "      <td>28.350000</td>\n",
       "      <td>NaN</td>\n",
       "      <td>NaN</td>\n",
       "    </tr>\n",
       "    <tr>\n",
       "      <th>50%</th>\n",
       "      <td>NaN</td>\n",
       "      <td>NaN</td>\n",
       "      <td>NaN</td>\n",
       "      <td>NaN</td>\n",
       "      <td>NaN</td>\n",
       "      <td>NaN</td>\n",
       "      <td>53.400000</td>\n",
       "      <td>NaN</td>\n",
       "      <td>NaN</td>\n",
       "    </tr>\n",
       "    <tr>\n",
       "      <th>75%</th>\n",
       "      <td>NaN</td>\n",
       "      <td>NaN</td>\n",
       "      <td>NaN</td>\n",
       "      <td>NaN</td>\n",
       "      <td>NaN</td>\n",
       "      <td>NaN</td>\n",
       "      <td>76.300000</td>\n",
       "      <td>NaN</td>\n",
       "      <td>NaN</td>\n",
       "    </tr>\n",
       "    <tr>\n",
       "      <th>max</th>\n",
       "      <td>NaN</td>\n",
       "      <td>NaN</td>\n",
       "      <td>NaN</td>\n",
       "      <td>NaN</td>\n",
       "      <td>NaN</td>\n",
       "      <td>NaN</td>\n",
       "      <td>206.800000</td>\n",
       "      <td>NaN</td>\n",
       "      <td>NaN</td>\n",
       "    </tr>\n",
       "  </tbody>\n",
       "</table>\n",
       "</div>"
      ],
      "text/plain": [
       "                insert_date  origin destination           start_date  \\\n",
       "count                215909  215909      215909               215909   \n",
       "unique                30543       5           5                 2231   \n",
       "top     2019-05-09 15:02:02  MADRID      MADRID  2019-06-02 17:30:00   \n",
       "freq                     90  110440      105469                 2089   \n",
       "mean                    NaN     NaN         NaN                  NaN   \n",
       "std                     NaN     NaN         NaN                  NaN   \n",
       "min                     NaN     NaN         NaN                  NaN   \n",
       "25%                     NaN     NaN         NaN                  NaN   \n",
       "50%                     NaN     NaN         NaN                  NaN   \n",
       "75%                     NaN     NaN         NaN                  NaN   \n",
       "max                     NaN     NaN         NaN                  NaN   \n",
       "\n",
       "                   end_date train_type          price train_class    fare  \n",
       "count                215909     215909  202321.000000      215266  215266  \n",
       "unique                 2870         16            NaN           5       5  \n",
       "top     2019-06-02 23:03:00        AVE            NaN     Turista   Promo  \n",
       "freq                   1278     126577            NaN      164016  132065  \n",
       "mean                    NaN        NaN      56.723877         NaN     NaN  \n",
       "std                     NaN        NaN      25.531787         NaN     NaN  \n",
       "min                     NaN        NaN      16.600000         NaN     NaN  \n",
       "25%                     NaN        NaN      28.350000         NaN     NaN  \n",
       "50%                     NaN        NaN      53.400000         NaN     NaN  \n",
       "75%                     NaN        NaN      76.300000         NaN     NaN  \n",
       "max                     NaN        NaN     206.800000         NaN     NaN  "
      ]
     },
     "execution_count": 115,
     "metadata": {},
     "output_type": "execute_result"
    }
   ],
   "source": [
    "df.describe(include=\"all\")"
   ]
  },
  {
   "cell_type": "markdown",
   "metadata": {},
   "source": [
    "**Question: Explain the summary statistics for the above data set**"
   ]
  },
  {
   "cell_type": "markdown",
   "metadata": {},
   "source": [
    "**Answer:**\n",
    "From the dataset above given we can see \"price\",\"train_class\",\"fare\" have missing values\n",
    "the column \"price\" is right skewed \n",
    "There are total 5 origins and \n",
    "                5 Destinations\n",
    "                16 train types \n",
    "                5 train/ticket clases\t\n",
    "                5 kind of ticket fares\n",
    "most common origin and destinationis MADRID\n",
    "most common train type is AVE, \n",
    "most common train/ticket class is Turista means turist in english\n",
    "most common ticke fare is Promo"
   ]
  },
  {
   "cell_type": "markdown",
   "metadata": {},
   "source": [
    "#### **Task 8: Check null values in dataset**"
   ]
  },
  {
   "cell_type": "code",
   "execution_count": 116,
   "metadata": {},
   "outputs": [
    {
     "data": {
      "text/plain": [
       "insert_date        0\n",
       "origin             0\n",
       "destination        0\n",
       "start_date         0\n",
       "end_date           0\n",
       "train_type         0\n",
       "price          13588\n",
       "train_class      643\n",
       "fare             643\n",
       "dtype: int64"
      ]
     },
     "execution_count": 116,
     "metadata": {},
     "output_type": "execute_result"
    }
   ],
   "source": [
    "#write code here\n",
    "df.isna().sum()"
   ]
  },
  {
   "cell_type": "markdown",
   "metadata": {},
   "source": [
    "#### **Task 9: Fill the Null values in the 'price' column.**<br>\n",
    "*Hint: Take mean*"
   ]
  },
  {
   "cell_type": "code",
   "execution_count": 117,
   "metadata": {},
   "outputs": [],
   "source": [
    "#write code here\n",
    "df[\"price\"].fillna(df[\"price\"].mean(), inplace=True)"
   ]
  },
  {
   "cell_type": "markdown",
   "metadata": {},
   "source": [
    "#### **Task 10: Drop the rows containing Null values in the attributes train_class and fare**"
   ]
  },
  {
   "cell_type": "code",
   "execution_count": 118,
   "metadata": {},
   "outputs": [],
   "source": [
    "#write code here\n",
    "drop_null_train_class_fare = df[ (df['train_class'].isna()== True) | (df['fare'].isna()== True )].index\n",
    "df.drop(drop_null_train_class_fare , inplace=True)\n"
   ]
  },
  {
   "cell_type": "code",
   "execution_count": 119,
   "metadata": {},
   "outputs": [
    {
     "data": {
      "text/plain": [
       "(215266, 9)"
      ]
     },
     "execution_count": 119,
     "metadata": {},
     "output_type": "execute_result"
    }
   ],
   "source": [
    "df.shape"
   ]
  },
  {
   "cell_type": "markdown",
   "metadata": {},
   "source": [
    "#### **Task 11: Drop 'insert_date'**"
   ]
  },
  {
   "cell_type": "code",
   "execution_count": 120,
   "metadata": {},
   "outputs": [],
   "source": [
    "#write code here\n",
    "df.drop([\"insert_date\"], axis=1, inplace=True)"
   ]
  },
  {
   "cell_type": "code",
   "execution_count": 121,
   "metadata": {},
   "outputs": [
    {
     "data": {
      "text/plain": [
       "(215266, 8)"
      ]
     },
     "execution_count": 121,
     "metadata": {},
     "output_type": "execute_result"
    }
   ],
   "source": [
    "df.shape"
   ]
  },
  {
   "cell_type": "code",
   "execution_count": null,
   "metadata": {},
   "outputs": [],
   "source": []
  },
  {
   "cell_type": "markdown",
   "metadata": {},
   "source": [
    "**Check null values again in dataset**"
   ]
  },
  {
   "cell_type": "code",
   "execution_count": 122,
   "metadata": {},
   "outputs": [
    {
     "data": {
      "text/plain": [
       "origin         0\n",
       "destination    0\n",
       "start_date     0\n",
       "end_date       0\n",
       "train_type     0\n",
       "price          0\n",
       "train_class    0\n",
       "fare           0\n",
       "dtype: int64"
      ]
     },
     "execution_count": 122,
     "metadata": {},
     "output_type": "execute_result"
    }
   ],
   "source": [
    "#write code here\n",
    "df.isna().sum()"
   ]
  },
  {
   "cell_type": "markdown",
   "metadata": {},
   "source": [
    "#### **Task 12: Plot number of people boarding from different stations**\n"
   ]
  },
  {
   "cell_type": "code",
   "execution_count": 123,
   "metadata": {},
   "outputs": [
    {
     "data": {
      "image/png": "[encoded data removed]",
      "text/plain": [
       "<Figure size 432x288 with 1 Axes>"
      ]
     },
     "metadata": {},
     "output_type": "display_data"
    }
   ],
   "source": [
    "#write code here\n",
    "sns.countplot(x='origin', data=df);"
   ]
  },
  {
   "cell_type": "markdown",
   "metadata": {},
   "source": [
    "**Question: What insights do you get from the above plot?**"
   ]
  },
  {
   "cell_type": "markdown",
   "metadata": {},
   "source": [
    "**Answer:** Most of the people boarded from Madraid. Whereas Barcelona is the second highest rate of people oarding but 3times less than of Madrain then declining the bars in sequential order is Valencia and Sevilla origin. While the least orignated from Ponferrada"
   ]
  },
  {
   "cell_type": "markdown",
   "metadata": {},
   "source": [
    "#### **Task 13: Plot number of people for the destination stations**\n"
   ]
  },
  {
   "cell_type": "code",
   "execution_count": 124,
   "metadata": {},
   "outputs": [
    {
     "data": {
      "image/png": "[encoded data removed]",
      "text/plain": [
       "<Figure size 432x288 with 1 Axes>"
      ]
     },
     "metadata": {},
     "output_type": "display_data"
    }
   ],
   "source": [
    "#write code here\n",
    "sns.countplot(x='destination', data=df);"
   ]
  },
  {
   "cell_type": "markdown",
   "metadata": {},
   "source": [
    "**Question: What insights do you get from the above graph?**"
   ]
  },
  {
   "cell_type": "markdown",
   "metadata": {},
   "source": [
    "**Answer:** The most common destination is also MADRID. keeping the stats same as that of origin where Barcelona is the second highest with Valencia, not much difference 3 highest and Sevilla less than Valencia and finally he destination for least people is PONFERRADA."
   ]
  },
  {
   "cell_type": "markdown",
   "metadata": {},
   "source": [
    "#### **Task 14: Plot different types of train that runs in Spain**\n"
   ]
  },
  {
   "cell_type": "code",
   "execution_count": 125,
   "metadata": {},
   "outputs": [
    {
     "data": {
      "image/png": "[encoded data removed]",
      "text/plain": [
       "<Figure size 1080x576 with 1 Axes>"
      ]
     },
     "metadata": {},
     "output_type": "display_data"
    }
   ],
   "source": [
    "#write code here\n",
    "sns.set(rc = {'figure.figsize':(15,8)})\n",
    "sns.countplot(x='train_type', data=df);"
   ]
  },
  {
   "cell_type": "markdown",
   "metadata": {},
   "source": [
    "**Question: Which train runs the maximum in number as compared to other train types?**"
   ]
  },
  {
   "cell_type": "markdown",
   "metadata": {},
   "source": [
    "**Answer:** AVE runs maimum\n"
   ]
  },
  {
   "cell_type": "markdown",
   "metadata": {},
   "source": [
    "#### **Task 15: Plot number of trains of different class**\n"
   ]
  },
  {
   "cell_type": "code",
   "execution_count": 126,
   "metadata": {},
   "outputs": [
    {
     "data": {
      "image/png": "[encoded data removed]",
      "text/plain": [
       "<Figure size 1080x576 with 1 Axes>"
      ]
     },
     "metadata": {},
     "output_type": "display_data"
    }
   ],
   "source": [
    "counts_by_class = df.groupby('train_class').agg({'train_type': 'nunique'})\n",
    "counts_by_class = counts_by_class.reset_index().rename(columns={'train_type': 'train_type_count'})\n",
    "sns.barplot(x='train_class', data=counts_by_class, y='train_type_count')\n",
    "plt.show()"
   ]
  },
  {
   "cell_type": "markdown",
   "metadata": {},
   "source": [
    "**Question: Which the most common train class for traveling among people in general?**"
   ]
  },
  {
   "cell_type": "markdown",
   "metadata": {},
   "source": [
    "**Answer:** \n",
    "Turista i.e.Turists in english"
   ]
  },
  {
   "cell_type": "markdown",
   "metadata": {},
   "source": [
    "#### **Task 16: Plot number of tickets bought from each category**\n"
   ]
  },
  {
   "cell_type": "code",
   "execution_count": 129,
   "metadata": {},
   "outputs": [
    {
     "data": {
      "image/png": "[encoded data removed]",
      "text/plain": [
       "<Figure size 576x576 with 1 Axes>"
      ]
     },
     "metadata": {},
     "output_type": "display_data"
    }
   ],
   "source": [
    "#write code here\n",
    "sns.set(rc = {'figure.figsize':(8,8)})\n",
    "sns.countplot(x='train_class', data=df);"
   ]
  },
  {
   "cell_type": "markdown",
   "metadata": {},
   "source": [
    "**Question: Which the most common tickets are bought?**"
   ]
  },
  {
   "cell_type": "markdown",
   "metadata": {},
   "source": [
    "**Answer:** Turista means turist is the most common ticket bought."
   ]
  },
  {
   "cell_type": "markdown",
   "metadata": {},
   "source": [
    "#### **Task 17: Plot distribution of the ticket prices**"
   ]
  },
  {
   "cell_type": "code",
   "execution_count": 130,
   "metadata": {},
   "outputs": [
    {
     "name": "stdout",
     "output_type": "stream",
     "text": [
      "Requirement already up-to-date: seaborn in c:\\anaconda\\lib\\site-packages (0.12.2)\n",
      "Requirement already satisfied, skipping upgrade: matplotlib!=3.6.1,>=3.1 in c:\\anaconda\\lib\\site-packages (from seaborn) (3.1.3)\n",
      "Requirement already satisfied, skipping upgrade: pandas>=0.25 in c:\\anaconda\\lib\\site-packages (from seaborn) (1.0.1)\n",
      "Requirement already satisfied, skipping upgrade: numpy!=1.24.0,>=1.17 in c:\\anaconda\\lib\\site-packages (from seaborn) (1.18.1)\n",
      "Requirement already satisfied, skipping upgrade: typing_extensions; python_version < \"3.8\" in c:\\anaconda\\lib\\site-packages (from seaborn) (4.5.0)\n",
      "Requirement already satisfied, skipping upgrade: pyparsing!=2.0.4,!=2.1.2,!=2.1.6,>=2.0.1 in c:\\anaconda\\lib\\site-packages (from matplotlib!=3.6.1,>=3.1->seaborn) (2.4.6)\n",
      "Requirement already satisfied, skipping upgrade: cycler>=0.10 in c:\\anaconda\\lib\\site-packages (from matplotlib!=3.6.1,>=3.1->seaborn) (0.10.0)\n",
      "Requirement already satisfied, skipping upgrade: kiwisolver>=1.0.1 in c:\\anaconda\\lib\\site-packages (from matplotlib!=3.6.1,>=3.1->seaborn) (1.1.0)\n",
      "Requirement already satisfied, skipping upgrade: python-dateutil>=2.1 in c:\\anaconda\\lib\\site-packages (from matplotlib!=3.6.1,>=3.1->seaborn) (2.8.1)\n",
      "Requirement already satisfied, skipping upgrade: pytz>=2017.2 in c:\\anaconda\\lib\\site-packages (from pandas>=0.25->seaborn) (2019.3)\n",
      "Requirement already satisfied, skipping upgrade: six in c:\\anaconda\\lib\\site-packages (from cycler>=0.10->matplotlib!=3.6.1,>=3.1->seaborn) (1.14.0)\n",
      "Requirement already satisfied, skipping upgrade: setuptools in c:\\anaconda\\lib\\site-packages (from kiwisolver>=1.0.1->matplotlib!=3.6.1,>=3.1->seaborn) (45.2.0.post20200210)\n",
      "Note: you may need to restart the kernel to use updated packages.\n"
     ]
    }
   ],
   "source": [
    "pip install -U seaborn"
   ]
  },
  {
   "cell_type": "code",
   "execution_count": 131,
   "metadata": {
    "scrolled": true
   },
   "outputs": [
    {
     "data": {
      "text/plain": [
       "<seaborn.axisgrid.FacetGrid at 0x20e607cc708>"
      ]
     },
     "execution_count": 131,
     "metadata": {},
     "output_type": "execute_result"
    },
    {
     "data": {
      "image/png": "[encoded data removed]",
      "text/plain": [
       "<Figure size 1440x720 with 1 Axes>"
      ]
     },
     "metadata": {},
     "output_type": "display_data"
    }
   ],
   "source": [
    "#write code here\n",
    "\n",
    "sns.displot(data=df, x=\"price\", height= 10, aspect=2)"
   ]
  },
  {
   "cell_type": "code",
   "execution_count": 44,
   "metadata": {},
   "outputs": [
    {
     "data": {
      "text/plain": [
       "<matplotlib.axes._subplots.AxesSubplot at 0x20e4a7a9a48>"
      ]
     },
     "execution_count": 44,
     "metadata": {},
     "output_type": "execute_result"
    },
    {
     "data": {
      "image/png": "[encoded data removed]",
      "text/plain": [
       "<Figure size 1800x1152 with 1 Axes>"
      ]
     },
     "metadata": {},
     "output_type": "display_data"
    }
   ],
   "source": [
    "sns.histplot(data=df, x=\"price\", bins=50)"
   ]
  },
  {
   "cell_type": "markdown",
   "metadata": {},
   "source": [
    "**Question: What readings can you get from the above plot?**"
   ]
  },
  {
   "cell_type": "markdown",
   "metadata": {},
   "source": [
    "**Answer:**     between 25 to 50 there is a peak of count that shows the ticket price of a certain ticket class which is the most common, it also shows an oulier at 200 and a below 25 which is very few in count however have more count than outlier 200"
   ]
  },
  {
   "cell_type": "markdown",
   "metadata": {},
   "source": [
    "###### **Task 18: Show train_class vs price through boxplot**"
   ]
  },
  {
   "cell_type": "code",
   "execution_count": 132,
   "metadata": {},
   "outputs": [
    {
     "data": {
      "text/plain": [
       "<seaborn.axisgrid.FacetGrid at 0x20e60754188>"
      ]
     },
     "execution_count": 132,
     "metadata": {},
     "output_type": "execute_result"
    },
    {
     "data": {
      "image/png": "[encoded data removed]",
      "text/plain": [
       "<Figure size 1080x720 with 1 Axes>"
      ]
     },
     "metadata": {},
     "output_type": "display_data"
    }
   ],
   "source": [
    "#write code here\n",
    "sns.set(rc = {'figure.figsize':(10,10)})\n",
    "sns.catplot(kind='box', x='train_class', y='price', data=df, height=10, aspect=1.5)"
   ]
  },
  {
   "cell_type": "code",
   "execution_count": 133,
   "metadata": {},
   "outputs": [
    {
     "data": {
      "text/plain": [
       "array(['Turista con enlace', 'Turista', 'Preferente', 'Turista Plus',\n",
       "       'Cama Turista'], dtype=object)"
      ]
     },
     "execution_count": 133,
     "metadata": {},
     "output_type": "execute_result"
    }
   ],
   "source": [
    "df[\"train_class\"].unique()"
   ]
  },
  {
   "cell_type": "markdown",
   "metadata": {},
   "source": [
    "**Question: What pricing trends can you find out by looking at the plot above?**"
   ]
  },
  {
   "cell_type": "markdown",
   "metadata": {},
   "source": [
    "**Answer:** \n",
    "Turista: This is the standard class of travel, with comfortable seating and air conditioning.\n",
    "The most common train class Turista values are right skewed it also have outliers which shows this train_class ticket price is high maybe on certain dates\n",
    "\n",
    "Turista Plus: This class offers more space and more comfortable seats than Turista also offering higher price range than that of turista. The box plot also shows left skewness in price and has outliers greater than that of turista so it can be assumed that turista plus also have high price of tickets on certain dates\n",
    "\n",
    "As per domain knowldge Comfort = 1st class, formerly Turista Plus or Preferente are similar \n",
    "\n",
    "Preferente: This class offers comfort and amenities, such as wider seats, more legroom, and complimentary food and drinks. with price range higher than turista but lower than turista plus. also have outliers less than of both turista and turista plus. However distribution seems symmetric\n",
    "\n",
    "Turista con enlace: This class is for connecting trains, where passengers transfer from one train to another during their journey. It may have slightly different facilities than the regular Turista class. The data is left skewed\n",
    "\n",
    "Cama Turista: This class is equivalent to a sleeper class, with reclining seats that can be converted into beds for overnight travel. There a just a few instance of Cama Turista The range lies within range of Turista Plus\n"
   ]
  },
  {
   "cell_type": "markdown",
   "metadata": {},
   "source": [
    "#### **Task 19: Show train_type vs price through boxplot**\n"
   ]
  },
  {
   "cell_type": "code",
   "execution_count": 134,
   "metadata": {},
   "outputs": [
    {
     "data": {
      "text/plain": [
       "<seaborn.axisgrid.FacetGrid at 0x20e6057ad88>"
      ]
     },
     "execution_count": 134,
     "metadata": {},
     "output_type": "execute_result"
    },
    {
     "data": {
      "image/png": "[encoded data removed]",
      "text/plain": [
       "<Figure size 1080x720 with 1 Axes>"
      ]
     },
     "metadata": {},
     "output_type": "display_data"
    }
   ],
   "source": [
    "#write code here\n",
    "sns.catplot(kind='box', x='train_type', y='price', data=df, height=10, aspect=1.5)"
   ]
  },
  {
   "cell_type": "markdown",
   "metadata": {},
   "source": [
    "**Question: Which type of trains cost more as compared to others?**"
   ]
  },
  {
   "cell_type": "markdown",
   "metadata": {},
   "source": [
    "**Answer:**  The Train \"AVE\" cost higher than others with highest outliers \n",
    "\n"
   ]
  },
  {
   "cell_type": "markdown",
   "metadata": {},
   "source": [
    "## Feature Engineering\n"
   ]
  },
  {
   "cell_type": "code",
   "execution_count": 135,
   "metadata": {},
   "outputs": [],
   "source": [
    "df = df.reset_index()"
   ]
  },
  {
   "cell_type": "markdown",
   "metadata": {},
   "source": [
    "**Finding the travel time between the place of origin and destination**<br>\n",
    "We need to find out the travel time for each entry which can be obtained from the 'start_date' and 'end_date' column. Also if you see, these columns are in object type therefore datetimeFormat should be defined to perform the necessary operation of getting the required time."
   ]
  },
  {
   "cell_type": "markdown",
   "metadata": {},
   "source": [
    "**Import datetime library**"
   ]
  },
  {
   "cell_type": "code",
   "execution_count": 136,
   "metadata": {},
   "outputs": [],
   "source": [
    "#write code here\n",
    "import datetime"
   ]
  },
  {
   "cell_type": "code",
   "execution_count": 137,
   "metadata": {},
   "outputs": [],
   "source": [
    "datetimeFormat = '%Y-%m-%d %H:%M:%S'\n",
    "def fun(a,b):\n",
    "    diff = datetime.datetime.strptime(b, datetimeFormat)- datetime.datetime.strptime(a, datetimeFormat)\n",
    "    return(diff.seconds/3600.0)                  \n",
    "    "
   ]
  },
  {
   "cell_type": "code",
   "execution_count": 138,
   "metadata": {},
   "outputs": [],
   "source": [
    "df['travel_time_in_hrs'] = df.apply(lambda x:fun(x['start_date'],x['end_date']),axis=1) "
   ]
  },
  {
   "cell_type": "markdown",
   "metadata": {},
   "source": [
    "#### **Task 20: Remove redundant features**\n"
   ]
  },
  {
   "cell_type": "markdown",
   "metadata": {},
   "source": [
    "**You need to remove features that are giving the related values as  'travel_time_in_hrs'**<br>\n",
    "*Hint: Look for date related columns*"
   ]
  },
  {
   "cell_type": "code",
   "execution_count": 139,
   "metadata": {},
   "outputs": [
    {
     "data": {
      "text/html": [
       "<div>\n",
       "<style scoped>\n",
       "    .dataframe tbody tr th:only-of-type {\n",
       "        vertical-align: middle;\n",
       "    }\n",
       "\n",
       "    .dataframe tbody tr th {\n",
       "        vertical-align: top;\n",
       "    }\n",
       "\n",
       "    .dataframe thead th {\n",
       "        text-align: right;\n",
       "    }\n",
       "</style>\n",
       "<table border=\"1\" class=\"dataframe\">\n",
       "  <thead>\n",
       "    <tr style=\"text-align: right;\">\n",
       "      <th></th>\n",
       "      <th>index</th>\n",
       "      <th>origin</th>\n",
       "      <th>destination</th>\n",
       "      <th>start_date</th>\n",
       "      <th>end_date</th>\n",
       "      <th>train_type</th>\n",
       "      <th>price</th>\n",
       "      <th>train_class</th>\n",
       "      <th>fare</th>\n",
       "      <th>travel_time_in_hrs</th>\n",
       "    </tr>\n",
       "  </thead>\n",
       "  <tbody>\n",
       "    <tr>\n",
       "      <th>0</th>\n",
       "      <td>0</td>\n",
       "      <td>PONFERRADA</td>\n",
       "      <td>MADRID</td>\n",
       "      <td>2019-06-02 15:00:00</td>\n",
       "      <td>2019-06-02 19:42:00</td>\n",
       "      <td>MD-AVE</td>\n",
       "      <td>59.50</td>\n",
       "      <td>Turista con enlace</td>\n",
       "      <td>Flexible</td>\n",
       "      <td>4.700000</td>\n",
       "    </tr>\n",
       "    <tr>\n",
       "      <th>1</th>\n",
       "      <td>1</td>\n",
       "      <td>PONFERRADA</td>\n",
       "      <td>MADRID</td>\n",
       "      <td>2019-06-02 17:15:00</td>\n",
       "      <td>2019-06-02 23:03:00</td>\n",
       "      <td>MD-AVE</td>\n",
       "      <td>34.65</td>\n",
       "      <td>Turista con enlace</td>\n",
       "      <td>Promo +</td>\n",
       "      <td>5.800000</td>\n",
       "    </tr>\n",
       "    <tr>\n",
       "      <th>2</th>\n",
       "      <td>2</td>\n",
       "      <td>PONFERRADA</td>\n",
       "      <td>MADRID</td>\n",
       "      <td>2019-06-02 17:15:00</td>\n",
       "      <td>2019-06-02 23:10:00</td>\n",
       "      <td>MD-LD</td>\n",
       "      <td>39.95</td>\n",
       "      <td>Turista con enlace</td>\n",
       "      <td>Promo +</td>\n",
       "      <td>5.916667</td>\n",
       "    </tr>\n",
       "    <tr>\n",
       "      <th>3</th>\n",
       "      <td>3</td>\n",
       "      <td>PONFERRADA</td>\n",
       "      <td>MADRID</td>\n",
       "      <td>2019-06-02 17:15:00</td>\n",
       "      <td>2019-06-02 22:14:00</td>\n",
       "      <td>MD-AVE</td>\n",
       "      <td>40.60</td>\n",
       "      <td>Turista con enlace</td>\n",
       "      <td>Promo +</td>\n",
       "      <td>4.983333</td>\n",
       "    </tr>\n",
       "    <tr>\n",
       "      <th>4</th>\n",
       "      <td>4</td>\n",
       "      <td>PONFERRADA</td>\n",
       "      <td>MADRID</td>\n",
       "      <td>2019-06-02 18:55:00</td>\n",
       "      <td>2019-06-02 23:03:00</td>\n",
       "      <td>ALVIA</td>\n",
       "      <td>27.90</td>\n",
       "      <td>Turista</td>\n",
       "      <td>Promo</td>\n",
       "      <td>4.133333</td>\n",
       "    </tr>\n",
       "  </tbody>\n",
       "</table>\n",
       "</div>"
      ],
      "text/plain": [
       "   index      origin destination           start_date             end_date  \\\n",
       "0      0  PONFERRADA      MADRID  2019-06-02 15:00:00  2019-06-02 19:42:00   \n",
       "1      1  PONFERRADA      MADRID  2019-06-02 17:15:00  2019-06-02 23:03:00   \n",
       "2      2  PONFERRADA      MADRID  2019-06-02 17:15:00  2019-06-02 23:10:00   \n",
       "3      3  PONFERRADA      MADRID  2019-06-02 17:15:00  2019-06-02 22:14:00   \n",
       "4      4  PONFERRADA      MADRID  2019-06-02 18:55:00  2019-06-02 23:03:00   \n",
       "\n",
       "  train_type  price         train_class      fare  travel_time_in_hrs  \n",
       "0     MD-AVE  59.50  Turista con enlace  Flexible            4.700000  \n",
       "1     MD-AVE  34.65  Turista con enlace   Promo +            5.800000  \n",
       "2      MD-LD  39.95  Turista con enlace   Promo +            5.916667  \n",
       "3     MD-AVE  40.60  Turista con enlace   Promo +            4.983333  \n",
       "4      ALVIA  27.90             Turista     Promo            4.133333  "
      ]
     },
     "execution_count": 139,
     "metadata": {},
     "output_type": "execute_result"
    }
   ],
   "source": [
    "df.head()"
   ]
  },
  {
   "cell_type": "code",
   "execution_count": 140,
   "metadata": {
    "scrolled": true
   },
   "outputs": [],
   "source": [
    "#write code here\n",
    "df.drop([\"start_date\"], axis=1, inplace=True)"
   ]
  },
  {
   "cell_type": "code",
   "execution_count": 141,
   "metadata": {},
   "outputs": [],
   "source": [
    "df.drop([\"end_date\"], axis=1, inplace=True)"
   ]
  },
  {
   "cell_type": "code",
   "execution_count": 142,
   "metadata": {},
   "outputs": [
    {
     "data": {
      "text/plain": [
       "(215266, 8)"
      ]
     },
     "execution_count": 142,
     "metadata": {},
     "output_type": "execute_result"
    }
   ],
   "source": [
    "df.shape"
   ]
  },
  {
   "cell_type": "code",
   "execution_count": 144,
   "metadata": {},
   "outputs": [
    {
     "data": {
      "text/html": [
       "<div>\n",
       "<style scoped>\n",
       "    .dataframe tbody tr th:only-of-type {\n",
       "        vertical-align: middle;\n",
       "    }\n",
       "\n",
       "    .dataframe tbody tr th {\n",
       "        vertical-align: top;\n",
       "    }\n",
       "\n",
       "    .dataframe thead th {\n",
       "        text-align: right;\n",
       "    }\n",
       "</style>\n",
       "<table border=\"1\" class=\"dataframe\">\n",
       "  <thead>\n",
       "    <tr style=\"text-align: right;\">\n",
       "      <th></th>\n",
       "      <th>index</th>\n",
       "      <th>origin</th>\n",
       "      <th>destination</th>\n",
       "      <th>train_type</th>\n",
       "      <th>price</th>\n",
       "      <th>train_class</th>\n",
       "      <th>fare</th>\n",
       "      <th>travel_time_in_hrs</th>\n",
       "    </tr>\n",
       "  </thead>\n",
       "  <tbody>\n",
       "    <tr>\n",
       "      <th>0</th>\n",
       "      <td>0</td>\n",
       "      <td>PONFERRADA</td>\n",
       "      <td>MADRID</td>\n",
       "      <td>MD-AVE</td>\n",
       "      <td>59.50</td>\n",
       "      <td>Turista con enlace</td>\n",
       "      <td>Flexible</td>\n",
       "      <td>4.700000</td>\n",
       "    </tr>\n",
       "    <tr>\n",
       "      <th>1</th>\n",
       "      <td>1</td>\n",
       "      <td>PONFERRADA</td>\n",
       "      <td>MADRID</td>\n",
       "      <td>MD-AVE</td>\n",
       "      <td>34.65</td>\n",
       "      <td>Turista con enlace</td>\n",
       "      <td>Promo +</td>\n",
       "      <td>5.800000</td>\n",
       "    </tr>\n",
       "    <tr>\n",
       "      <th>2</th>\n",
       "      <td>2</td>\n",
       "      <td>PONFERRADA</td>\n",
       "      <td>MADRID</td>\n",
       "      <td>MD-LD</td>\n",
       "      <td>39.95</td>\n",
       "      <td>Turista con enlace</td>\n",
       "      <td>Promo +</td>\n",
       "      <td>5.916667</td>\n",
       "    </tr>\n",
       "    <tr>\n",
       "      <th>3</th>\n",
       "      <td>3</td>\n",
       "      <td>PONFERRADA</td>\n",
       "      <td>MADRID</td>\n",
       "      <td>MD-AVE</td>\n",
       "      <td>40.60</td>\n",
       "      <td>Turista con enlace</td>\n",
       "      <td>Promo +</td>\n",
       "      <td>4.983333</td>\n",
       "    </tr>\n",
       "    <tr>\n",
       "      <th>4</th>\n",
       "      <td>4</td>\n",
       "      <td>PONFERRADA</td>\n",
       "      <td>MADRID</td>\n",
       "      <td>ALVIA</td>\n",
       "      <td>27.90</td>\n",
       "      <td>Turista</td>\n",
       "      <td>Promo</td>\n",
       "      <td>4.133333</td>\n",
       "    </tr>\n",
       "  </tbody>\n",
       "</table>\n",
       "</div>"
      ],
      "text/plain": [
       "   index      origin destination train_type  price         train_class  \\\n",
       "0      0  PONFERRADA      MADRID     MD-AVE  59.50  Turista con enlace   \n",
       "1      1  PONFERRADA      MADRID     MD-AVE  34.65  Turista con enlace   \n",
       "2      2  PONFERRADA      MADRID      MD-LD  39.95  Turista con enlace   \n",
       "3      3  PONFERRADA      MADRID     MD-AVE  40.60  Turista con enlace   \n",
       "4      4  PONFERRADA      MADRID      ALVIA  27.90             Turista   \n",
       "\n",
       "       fare  travel_time_in_hrs  \n",
       "0  Flexible            4.700000  \n",
       "1   Promo +            5.800000  \n",
       "2   Promo +            5.916667  \n",
       "3   Promo +            4.983333  \n",
       "4     Promo            4.133333  "
      ]
     },
     "execution_count": 144,
     "metadata": {},
     "output_type": "execute_result"
    }
   ],
   "source": [
    "df.head()"
   ]
  },
  {
   "cell_type": "markdown",
   "metadata": {},
   "source": [
    "We now need to find out the pricing from 'MADRID' to other destinations. We also need to find out time which each train requires for travelling. "
   ]
  },
  {
   "cell_type": "markdown",
   "metadata": {},
   "source": [
    "## **Travelling from MADRID to SEVILLA**"
   ]
  },
  {
   "cell_type": "markdown",
   "metadata": {},
   "source": [
    "#### Task 21: Findout people travelling from MADRID to SEVILLA"
   ]
  },
  {
   "cell_type": "code",
   "execution_count": 145,
   "metadata": {
    "scrolled": true
   },
   "outputs": [
    {
     "data": {
      "text/html": [
       "<div>\n",
       "<style scoped>\n",
       "    .dataframe tbody tr th:only-of-type {\n",
       "        vertical-align: middle;\n",
       "    }\n",
       "\n",
       "    .dataframe tbody tr th {\n",
       "        vertical-align: top;\n",
       "    }\n",
       "\n",
       "    .dataframe thead th {\n",
       "        text-align: right;\n",
       "    }\n",
       "</style>\n",
       "<table border=\"1\" class=\"dataframe\">\n",
       "  <thead>\n",
       "    <tr style=\"text-align: right;\">\n",
       "      <th></th>\n",
       "      <th>index</th>\n",
       "      <th>origin</th>\n",
       "      <th>destination</th>\n",
       "      <th>train_type</th>\n",
       "      <th>price</th>\n",
       "      <th>train_class</th>\n",
       "      <th>fare</th>\n",
       "      <th>travel_time_in_hrs</th>\n",
       "    </tr>\n",
       "  </thead>\n",
       "  <tbody>\n",
       "    <tr>\n",
       "      <th>364</th>\n",
       "      <td>364</td>\n",
       "      <td>MADRID</td>\n",
       "      <td>SEVILLA</td>\n",
       "      <td>AV City</td>\n",
       "      <td>49.150000</td>\n",
       "      <td>Turista</td>\n",
       "      <td>Promo</td>\n",
       "      <td>2.916667</td>\n",
       "    </tr>\n",
       "    <tr>\n",
       "      <th>365</th>\n",
       "      <td>365</td>\n",
       "      <td>MADRID</td>\n",
       "      <td>SEVILLA</td>\n",
       "      <td>ALVIA</td>\n",
       "      <td>56.723877</td>\n",
       "      <td>Preferente</td>\n",
       "      <td>Promo</td>\n",
       "      <td>2.733333</td>\n",
       "    </tr>\n",
       "    <tr>\n",
       "      <th>366</th>\n",
       "      <td>366</td>\n",
       "      <td>MADRID</td>\n",
       "      <td>SEVILLA</td>\n",
       "      <td>AVE</td>\n",
       "      <td>69.400000</td>\n",
       "      <td>Preferente</td>\n",
       "      <td>Promo</td>\n",
       "      <td>2.633333</td>\n",
       "    </tr>\n",
       "    <tr>\n",
       "      <th>367</th>\n",
       "      <td>367</td>\n",
       "      <td>MADRID</td>\n",
       "      <td>SEVILLA</td>\n",
       "      <td>AVE</td>\n",
       "      <td>76.300000</td>\n",
       "      <td>Turista</td>\n",
       "      <td>Flexible</td>\n",
       "      <td>2.533333</td>\n",
       "    </tr>\n",
       "    <tr>\n",
       "      <th>368</th>\n",
       "      <td>368</td>\n",
       "      <td>MADRID</td>\n",
       "      <td>SEVILLA</td>\n",
       "      <td>ALVIA</td>\n",
       "      <td>56.723877</td>\n",
       "      <td>Preferente</td>\n",
       "      <td>Promo</td>\n",
       "      <td>2.600000</td>\n",
       "    </tr>\n",
       "    <tr>\n",
       "      <th>...</th>\n",
       "      <td>...</td>\n",
       "      <td>...</td>\n",
       "      <td>...</td>\n",
       "      <td>...</td>\n",
       "      <td>...</td>\n",
       "      <td>...</td>\n",
       "      <td>...</td>\n",
       "      <td>...</td>\n",
       "    </tr>\n",
       "    <tr>\n",
       "      <th>215261</th>\n",
       "      <td>215904</td>\n",
       "      <td>MADRID</td>\n",
       "      <td>SEVILLA</td>\n",
       "      <td>AVE</td>\n",
       "      <td>47.300000</td>\n",
       "      <td>Turista</td>\n",
       "      <td>Promo</td>\n",
       "      <td>2.633333</td>\n",
       "    </tr>\n",
       "    <tr>\n",
       "      <th>215262</th>\n",
       "      <td>215905</td>\n",
       "      <td>MADRID</td>\n",
       "      <td>SEVILLA</td>\n",
       "      <td>AVE</td>\n",
       "      <td>47.300000</td>\n",
       "      <td>Turista</td>\n",
       "      <td>Promo</td>\n",
       "      <td>2.533333</td>\n",
       "    </tr>\n",
       "    <tr>\n",
       "      <th>215263</th>\n",
       "      <td>215906</td>\n",
       "      <td>MADRID</td>\n",
       "      <td>SEVILLA</td>\n",
       "      <td>AVE</td>\n",
       "      <td>47.300000</td>\n",
       "      <td>Turista</td>\n",
       "      <td>Promo</td>\n",
       "      <td>2.633333</td>\n",
       "    </tr>\n",
       "    <tr>\n",
       "      <th>215264</th>\n",
       "      <td>215907</td>\n",
       "      <td>MADRID</td>\n",
       "      <td>SEVILLA</td>\n",
       "      <td>AVE</td>\n",
       "      <td>47.300000</td>\n",
       "      <td>Turista</td>\n",
       "      <td>Promo</td>\n",
       "      <td>2.666667</td>\n",
       "    </tr>\n",
       "    <tr>\n",
       "      <th>215265</th>\n",
       "      <td>215908</td>\n",
       "      <td>MADRID</td>\n",
       "      <td>SEVILLA</td>\n",
       "      <td>AV City</td>\n",
       "      <td>52.200000</td>\n",
       "      <td>Turista Plus</td>\n",
       "      <td>Promo</td>\n",
       "      <td>2.750000</td>\n",
       "    </tr>\n",
       "  </tbody>\n",
       "</table>\n",
       "<p>26961 rows × 8 columns</p>\n",
       "</div>"
      ],
      "text/plain": [
       "         index  origin destination train_type      price   train_class  \\\n",
       "364        364  MADRID     SEVILLA    AV City  49.150000       Turista   \n",
       "365        365  MADRID     SEVILLA      ALVIA  56.723877    Preferente   \n",
       "366        366  MADRID     SEVILLA        AVE  69.400000    Preferente   \n",
       "367        367  MADRID     SEVILLA        AVE  76.300000       Turista   \n",
       "368        368  MADRID     SEVILLA      ALVIA  56.723877    Preferente   \n",
       "...        ...     ...         ...        ...        ...           ...   \n",
       "215261  215904  MADRID     SEVILLA        AVE  47.300000       Turista   \n",
       "215262  215905  MADRID     SEVILLA        AVE  47.300000       Turista   \n",
       "215263  215906  MADRID     SEVILLA        AVE  47.300000       Turista   \n",
       "215264  215907  MADRID     SEVILLA        AVE  47.300000       Turista   \n",
       "215265  215908  MADRID     SEVILLA    AV City  52.200000  Turista Plus   \n",
       "\n",
       "            fare  travel_time_in_hrs  \n",
       "364        Promo            2.916667  \n",
       "365        Promo            2.733333  \n",
       "366        Promo            2.633333  \n",
       "367     Flexible            2.533333  \n",
       "368        Promo            2.600000  \n",
       "...          ...                 ...  \n",
       "215261     Promo            2.633333  \n",
       "215262     Promo            2.533333  \n",
       "215263     Promo            2.633333  \n",
       "215264     Promo            2.666667  \n",
       "215265     Promo            2.750000  \n",
       "\n",
       "[26961 rows x 8 columns]"
      ]
     },
     "execution_count": 145,
     "metadata": {},
     "output_type": "execute_result"
    }
   ],
   "source": [
    "#write code here\n",
    "df1 = df[(df[\"origin\"]==\"MADRID\") & (df[\"destination\"]==\"SEVILLA\")]\n",
    "df1"
   ]
  },
  {
   "cell_type": "markdown",
   "metadata": {},
   "source": [
    "#### Task 22: Make a plot for finding out travelling hours for each train type"
   ]
  },
  {
   "cell_type": "code",
   "execution_count": 146,
   "metadata": {
    "scrolled": true
   },
   "outputs": [
    {
     "data": {
      "image/png": "[encoded data removed]",
      "text/plain": [
       "<Figure size 720x720 with 1 Axes>"
      ]
     },
     "metadata": {},
     "output_type": "display_data"
    }
   ],
   "source": [
    "#write code here\n",
    "sns.barplot(x = 'train_type',y = 'travel_time_in_hrs',data = df1)\n",
    " \n",
    "# Show the plot\n",
    "plt.show()"
   ]
  },
  {
   "cell_type": "markdown",
   "metadata": {},
   "source": [
    "#### **Task 23: Show train_type vs price through boxplot**\n"
   ]
  },
  {
   "cell_type": "code",
   "execution_count": 147,
   "metadata": {},
   "outputs": [
    {
     "data": {
      "text/plain": [
       "<seaborn.axisgrid.FacetGrid at 0x20e605af1c8>"
      ]
     },
     "execution_count": 147,
     "metadata": {},
     "output_type": "execute_result"
    },
    {
     "data": {
      "image/png": "[encoded data removed]",
      "text/plain": [
       "<Figure size 1080x720 with 1 Axes>"
      ]
     },
     "metadata": {},
     "output_type": "display_data"
    }
   ],
   "source": [
    "#write code here\n",
    "sns.catplot(kind='box', x='train_type', y='price', data=df1, height=10, aspect=1.5)"
   ]
  },
  {
   "cell_type": "markdown",
   "metadata": {},
   "source": [
    "## **Travelling from MADRID to BARCELONA**\n"
   ]
  },
  {
   "cell_type": "markdown",
   "metadata": {},
   "source": [
    "#### Task 24: Findout people travelling from MADRID to BARCELONA"
   ]
  },
  {
   "cell_type": "code",
   "execution_count": 148,
   "metadata": {},
   "outputs": [
    {
     "data": {
      "text/html": [
       "<div>\n",
       "<style scoped>\n",
       "    .dataframe tbody tr th:only-of-type {\n",
       "        vertical-align: middle;\n",
       "    }\n",
       "\n",
       "    .dataframe tbody tr th {\n",
       "        vertical-align: top;\n",
       "    }\n",
       "\n",
       "    .dataframe thead th {\n",
       "        text-align: right;\n",
       "    }\n",
       "</style>\n",
       "<table border=\"1\" class=\"dataframe\">\n",
       "  <thead>\n",
       "    <tr style=\"text-align: right;\">\n",
       "      <th></th>\n",
       "      <th>index</th>\n",
       "      <th>origin</th>\n",
       "      <th>destination</th>\n",
       "      <th>train_type</th>\n",
       "      <th>price</th>\n",
       "      <th>train_class</th>\n",
       "      <th>fare</th>\n",
       "      <th>travel_time_in_hrs</th>\n",
       "    </tr>\n",
       "  </thead>\n",
       "  <tbody>\n",
       "    <tr>\n",
       "      <th>79</th>\n",
       "      <td>79</td>\n",
       "      <td>MADRID</td>\n",
       "      <td>BARCELONA</td>\n",
       "      <td>R. EXPRES</td>\n",
       "      <td>43.25</td>\n",
       "      <td>Turista</td>\n",
       "      <td>Adulto ida</td>\n",
       "      <td>9.366667</td>\n",
       "    </tr>\n",
       "    <tr>\n",
       "      <th>80</th>\n",
       "      <td>80</td>\n",
       "      <td>MADRID</td>\n",
       "      <td>BARCELONA</td>\n",
       "      <td>R. EXPRES</td>\n",
       "      <td>43.25</td>\n",
       "      <td>Turista</td>\n",
       "      <td>Adulto ida</td>\n",
       "      <td>9.366667</td>\n",
       "    </tr>\n",
       "    <tr>\n",
       "      <th>81</th>\n",
       "      <td>81</td>\n",
       "      <td>MADRID</td>\n",
       "      <td>BARCELONA</td>\n",
       "      <td>R. EXPRES</td>\n",
       "      <td>43.25</td>\n",
       "      <td>Turista</td>\n",
       "      <td>Adulto ida</td>\n",
       "      <td>9.366667</td>\n",
       "    </tr>\n",
       "    <tr>\n",
       "      <th>82</th>\n",
       "      <td>82</td>\n",
       "      <td>MADRID</td>\n",
       "      <td>BARCELONA</td>\n",
       "      <td>R. EXPRES</td>\n",
       "      <td>43.25</td>\n",
       "      <td>Turista</td>\n",
       "      <td>Adulto ida</td>\n",
       "      <td>9.366667</td>\n",
       "    </tr>\n",
       "    <tr>\n",
       "      <th>83</th>\n",
       "      <td>83</td>\n",
       "      <td>MADRID</td>\n",
       "      <td>BARCELONA</td>\n",
       "      <td>AVE</td>\n",
       "      <td>66.75</td>\n",
       "      <td>Turista</td>\n",
       "      <td>Promo</td>\n",
       "      <td>3.150000</td>\n",
       "    </tr>\n",
       "    <tr>\n",
       "      <th>...</th>\n",
       "      <td>...</td>\n",
       "      <td>...</td>\n",
       "      <td>...</td>\n",
       "      <td>...</td>\n",
       "      <td>...</td>\n",
       "      <td>...</td>\n",
       "      <td>...</td>\n",
       "      <td>...</td>\n",
       "    </tr>\n",
       "    <tr>\n",
       "      <th>215085</th>\n",
       "      <td>215728</td>\n",
       "      <td>MADRID</td>\n",
       "      <td>BARCELONA</td>\n",
       "      <td>AVE</td>\n",
       "      <td>80.15</td>\n",
       "      <td>Turista Plus</td>\n",
       "      <td>Promo</td>\n",
       "      <td>2.750000</td>\n",
       "    </tr>\n",
       "    <tr>\n",
       "      <th>215086</th>\n",
       "      <td>215729</td>\n",
       "      <td>MADRID</td>\n",
       "      <td>BARCELONA</td>\n",
       "      <td>AVE</td>\n",
       "      <td>98.00</td>\n",
       "      <td>Preferente</td>\n",
       "      <td>Promo</td>\n",
       "      <td>3.166667</td>\n",
       "    </tr>\n",
       "    <tr>\n",
       "      <th>215087</th>\n",
       "      <td>215730</td>\n",
       "      <td>MADRID</td>\n",
       "      <td>BARCELONA</td>\n",
       "      <td>AVE</td>\n",
       "      <td>69.80</td>\n",
       "      <td>Turista Plus</td>\n",
       "      <td>Promo</td>\n",
       "      <td>2.833333</td>\n",
       "    </tr>\n",
       "    <tr>\n",
       "      <th>215088</th>\n",
       "      <td>215731</td>\n",
       "      <td>MADRID</td>\n",
       "      <td>BARCELONA</td>\n",
       "      <td>AVE</td>\n",
       "      <td>58.15</td>\n",
       "      <td>Turista</td>\n",
       "      <td>Promo</td>\n",
       "      <td>3.166667</td>\n",
       "    </tr>\n",
       "    <tr>\n",
       "      <th>215089</th>\n",
       "      <td>215732</td>\n",
       "      <td>MADRID</td>\n",
       "      <td>BARCELONA</td>\n",
       "      <td>AVE</td>\n",
       "      <td>66.75</td>\n",
       "      <td>Turista</td>\n",
       "      <td>Promo</td>\n",
       "      <td>3.166667</td>\n",
       "    </tr>\n",
       "  </tbody>\n",
       "</table>\n",
       "<p>40728 rows × 8 columns</p>\n",
       "</div>"
      ],
      "text/plain": [
       "         index  origin destination train_type  price   train_class  \\\n",
       "79          79  MADRID   BARCELONA  R. EXPRES  43.25       Turista   \n",
       "80          80  MADRID   BARCELONA  R. EXPRES  43.25       Turista   \n",
       "81          81  MADRID   BARCELONA  R. EXPRES  43.25       Turista   \n",
       "82          82  MADRID   BARCELONA  R. EXPRES  43.25       Turista   \n",
       "83          83  MADRID   BARCELONA        AVE  66.75       Turista   \n",
       "...        ...     ...         ...        ...    ...           ...   \n",
       "215085  215728  MADRID   BARCELONA        AVE  80.15  Turista Plus   \n",
       "215086  215729  MADRID   BARCELONA        AVE  98.00    Preferente   \n",
       "215087  215730  MADRID   BARCELONA        AVE  69.80  Turista Plus   \n",
       "215088  215731  MADRID   BARCELONA        AVE  58.15       Turista   \n",
       "215089  215732  MADRID   BARCELONA        AVE  66.75       Turista   \n",
       "\n",
       "              fare  travel_time_in_hrs  \n",
       "79      Adulto ida            9.366667  \n",
       "80      Adulto ida            9.366667  \n",
       "81      Adulto ida            9.366667  \n",
       "82      Adulto ida            9.366667  \n",
       "83           Promo            3.150000  \n",
       "...            ...                 ...  \n",
       "215085       Promo            2.750000  \n",
       "215086       Promo            3.166667  \n",
       "215087       Promo            2.833333  \n",
       "215088       Promo            3.166667  \n",
       "215089       Promo            3.166667  \n",
       "\n",
       "[40728 rows x 8 columns]"
      ]
     },
     "execution_count": 148,
     "metadata": {},
     "output_type": "execute_result"
    }
   ],
   "source": [
    "#write code here\n",
    "df2 = df[(df[\"origin\"]==\"MADRID\") & (df[\"destination\"]==\"BARCELONA\")]\n",
    "df2"
   ]
  },
  {
   "cell_type": "markdown",
   "metadata": {},
   "source": [
    "#### Task 25: Make a plot for finding out travelling hours for each train type"
   ]
  },
  {
   "cell_type": "code",
   "execution_count": 149,
   "metadata": {
    "scrolled": false
   },
   "outputs": [
    {
     "data": {
      "image/png": "[encoded data removed]",
      "text/plain": [
       "<Figure size 720x720 with 1 Axes>"
      ]
     },
     "metadata": {},
     "output_type": "display_data"
    }
   ],
   "source": [
    "#write code here\n",
    "sns.barplot(x = 'train_type',y = 'travel_time_in_hrs',data = df2)\n",
    " \n",
    "# Show the plot\n",
    "plt.show()"
   ]
  },
  {
   "cell_type": "markdown",
   "metadata": {},
   "source": [
    "#### **Task 26: Show train_type vs price through boxplot**"
   ]
  },
  {
   "cell_type": "code",
   "execution_count": 150,
   "metadata": {
    "scrolled": true
   },
   "outputs": [
    {
     "data": {
      "text/plain": [
       "<seaborn.axisgrid.FacetGrid at 0x20e63a71d48>"
      ]
     },
     "execution_count": 150,
     "metadata": {},
     "output_type": "execute_result"
    },
    {
     "data": {
      "image/png": "[encoded data removed]",
      "text/plain": [
       "<Figure size 360x360 with 1 Axes>"
      ]
     },
     "metadata": {},
     "output_type": "display_data"
    }
   ],
   "source": [
    "#write code here\n",
    "sns.catplot(kind='box', x='train_type', y='price', data=df2)"
   ]
  },
  {
   "cell_type": "markdown",
   "metadata": {},
   "source": [
    "## **Travelling from MADRID to VALENCIA**"
   ]
  },
  {
   "cell_type": "markdown",
   "metadata": {},
   "source": [
    "#### Task 27: Findout people travelling from MADRID to VALENCIA"
   ]
  },
  {
   "cell_type": "code",
   "execution_count": 151,
   "metadata": {},
   "outputs": [
    {
     "data": {
      "text/html": [
       "<div>\n",
       "<style scoped>\n",
       "    .dataframe tbody tr th:only-of-type {\n",
       "        vertical-align: middle;\n",
       "    }\n",
       "\n",
       "    .dataframe tbody tr th {\n",
       "        vertical-align: top;\n",
       "    }\n",
       "\n",
       "    .dataframe thead th {\n",
       "        text-align: right;\n",
       "    }\n",
       "</style>\n",
       "<table border=\"1\" class=\"dataframe\">\n",
       "  <thead>\n",
       "    <tr style=\"text-align: right;\">\n",
       "      <th></th>\n",
       "      <th>index</th>\n",
       "      <th>origin</th>\n",
       "      <th>destination</th>\n",
       "      <th>train_type</th>\n",
       "      <th>price</th>\n",
       "      <th>train_class</th>\n",
       "      <th>fare</th>\n",
       "      <th>travel_time_in_hrs</th>\n",
       "    </tr>\n",
       "  </thead>\n",
       "  <tbody>\n",
       "    <tr>\n",
       "      <th>5</th>\n",
       "      <td>5</td>\n",
       "      <td>MADRID</td>\n",
       "      <td>VALENCIA</td>\n",
       "      <td>REGIONAL</td>\n",
       "      <td>28.35</td>\n",
       "      <td>Turista</td>\n",
       "      <td>Adulto ida</td>\n",
       "      <td>6.783333</td>\n",
       "    </tr>\n",
       "    <tr>\n",
       "      <th>6</th>\n",
       "      <td>6</td>\n",
       "      <td>MADRID</td>\n",
       "      <td>VALENCIA</td>\n",
       "      <td>REGIONAL</td>\n",
       "      <td>28.35</td>\n",
       "      <td>Turista</td>\n",
       "      <td>Adulto ida</td>\n",
       "      <td>6.716667</td>\n",
       "    </tr>\n",
       "    <tr>\n",
       "      <th>7</th>\n",
       "      <td>7</td>\n",
       "      <td>MADRID</td>\n",
       "      <td>VALENCIA</td>\n",
       "      <td>REGIONAL</td>\n",
       "      <td>28.35</td>\n",
       "      <td>Turista</td>\n",
       "      <td>Adulto ida</td>\n",
       "      <td>6.700000</td>\n",
       "    </tr>\n",
       "    <tr>\n",
       "      <th>8</th>\n",
       "      <td>8</td>\n",
       "      <td>MADRID</td>\n",
       "      <td>VALENCIA</td>\n",
       "      <td>REGIONAL</td>\n",
       "      <td>28.35</td>\n",
       "      <td>Turista</td>\n",
       "      <td>Adulto ida</td>\n",
       "      <td>6.583333</td>\n",
       "    </tr>\n",
       "    <tr>\n",
       "      <th>9</th>\n",
       "      <td>9</td>\n",
       "      <td>MADRID</td>\n",
       "      <td>VALENCIA</td>\n",
       "      <td>REGIONAL</td>\n",
       "      <td>28.35</td>\n",
       "      <td>Turista</td>\n",
       "      <td>Adulto ida</td>\n",
       "      <td>6.366667</td>\n",
       "    </tr>\n",
       "    <tr>\n",
       "      <th>...</th>\n",
       "      <td>...</td>\n",
       "      <td>...</td>\n",
       "      <td>...</td>\n",
       "      <td>...</td>\n",
       "      <td>...</td>\n",
       "      <td>...</td>\n",
       "      <td>...</td>\n",
       "      <td>...</td>\n",
       "    </tr>\n",
       "    <tr>\n",
       "      <th>214830</th>\n",
       "      <td>215473</td>\n",
       "      <td>MADRID</td>\n",
       "      <td>VALENCIA</td>\n",
       "      <td>AVE</td>\n",
       "      <td>33.65</td>\n",
       "      <td>Turista</td>\n",
       "      <td>Promo</td>\n",
       "      <td>1.700000</td>\n",
       "    </tr>\n",
       "    <tr>\n",
       "      <th>214831</th>\n",
       "      <td>215474</td>\n",
       "      <td>MADRID</td>\n",
       "      <td>VALENCIA</td>\n",
       "      <td>REGIONAL</td>\n",
       "      <td>28.35</td>\n",
       "      <td>Turista</td>\n",
       "      <td>Adulto ida</td>\n",
       "      <td>6.283333</td>\n",
       "    </tr>\n",
       "    <tr>\n",
       "      <th>214832</th>\n",
       "      <td>215475</td>\n",
       "      <td>MADRID</td>\n",
       "      <td>VALENCIA</td>\n",
       "      <td>AVE</td>\n",
       "      <td>39.45</td>\n",
       "      <td>Turista</td>\n",
       "      <td>Promo</td>\n",
       "      <td>1.666667</td>\n",
       "    </tr>\n",
       "    <tr>\n",
       "      <th>214833</th>\n",
       "      <td>215476</td>\n",
       "      <td>MADRID</td>\n",
       "      <td>VALENCIA</td>\n",
       "      <td>AVE</td>\n",
       "      <td>45.30</td>\n",
       "      <td>Turista</td>\n",
       "      <td>Promo</td>\n",
       "      <td>1.816667</td>\n",
       "    </tr>\n",
       "    <tr>\n",
       "      <th>214834</th>\n",
       "      <td>215477</td>\n",
       "      <td>MADRID</td>\n",
       "      <td>VALENCIA</td>\n",
       "      <td>AVE</td>\n",
       "      <td>33.65</td>\n",
       "      <td>Turista</td>\n",
       "      <td>Promo</td>\n",
       "      <td>1.883333</td>\n",
       "    </tr>\n",
       "  </tbody>\n",
       "</table>\n",
       "<p>39447 rows × 8 columns</p>\n",
       "</div>"
      ],
      "text/plain": [
       "         index  origin destination train_type  price train_class        fare  \\\n",
       "5            5  MADRID    VALENCIA   REGIONAL  28.35     Turista  Adulto ida   \n",
       "6            6  MADRID    VALENCIA   REGIONAL  28.35     Turista  Adulto ida   \n",
       "7            7  MADRID    VALENCIA   REGIONAL  28.35     Turista  Adulto ida   \n",
       "8            8  MADRID    VALENCIA   REGIONAL  28.35     Turista  Adulto ida   \n",
       "9            9  MADRID    VALENCIA   REGIONAL  28.35     Turista  Adulto ida   \n",
       "...        ...     ...         ...        ...    ...         ...         ...   \n",
       "214830  215473  MADRID    VALENCIA        AVE  33.65     Turista       Promo   \n",
       "214831  215474  MADRID    VALENCIA   REGIONAL  28.35     Turista  Adulto ida   \n",
       "214832  215475  MADRID    VALENCIA        AVE  39.45     Turista       Promo   \n",
       "214833  215476  MADRID    VALENCIA        AVE  45.30     Turista       Promo   \n",
       "214834  215477  MADRID    VALENCIA        AVE  33.65     Turista       Promo   \n",
       "\n",
       "        travel_time_in_hrs  \n",
       "5                 6.783333  \n",
       "6                 6.716667  \n",
       "7                 6.700000  \n",
       "8                 6.583333  \n",
       "9                 6.366667  \n",
       "...                    ...  \n",
       "214830            1.700000  \n",
       "214831            6.283333  \n",
       "214832            1.666667  \n",
       "214833            1.816667  \n",
       "214834            1.883333  \n",
       "\n",
       "[39447 rows x 8 columns]"
      ]
     },
     "execution_count": 151,
     "metadata": {},
     "output_type": "execute_result"
    }
   ],
   "source": [
    "#write code here\n",
    "df3 = df[(df[\"origin\"]==\"MADRID\") & (df[\"destination\"]==\"VALENCIA\")]\n",
    "df3"
   ]
  },
  {
   "cell_type": "markdown",
   "metadata": {},
   "source": [
    "#### Task 28: Make a plot for finding out travelling hours for each train type"
   ]
  },
  {
   "cell_type": "code",
   "execution_count": 152,
   "metadata": {
    "scrolled": true
   },
   "outputs": [
    {
     "data": {
      "image/png": "[encoded data removed]",
      "text/plain": [
       "<Figure size 720x720 with 1 Axes>"
      ]
     },
     "metadata": {},
     "output_type": "display_data"
    }
   ],
   "source": [
    "#write code here\n",
    "sns.barplot(x = 'train_type',y = 'travel_time_in_hrs',data = df3)\n",
    " \n",
    "# Show the plot\n",
    "plt.show()"
   ]
  },
  {
   "cell_type": "markdown",
   "metadata": {},
   "source": [
    "#### **Task 29: Show train_type vs price through boxplot**"
   ]
  },
  {
   "cell_type": "code",
   "execution_count": 153,
   "metadata": {
    "scrolled": true
   },
   "outputs": [
    {
     "data": {
      "text/plain": [
       "<seaborn.axisgrid.FacetGrid at 0x20e59b31708>"
      ]
     },
     "execution_count": 153,
     "metadata": {},
     "output_type": "execute_result"
    },
    {
     "data": {
      "image/png": "[encoded data removed]",
      "text/plain": [
       "<Figure size 360x360 with 1 Axes>"
      ]
     },
     "metadata": {},
     "output_type": "display_data"
    }
   ],
   "source": [
    "#write code here\n",
    "sns.catplot(kind='box', x='train_type', y='price', data=df3)\n"
   ]
  },
  {
   "cell_type": "markdown",
   "metadata": {},
   "source": [
    "## **Travelling from MADRID to PONFERRADA**"
   ]
  },
  {
   "cell_type": "markdown",
   "metadata": {},
   "source": [
    "#### Task 30: Findout people travelling from MADRID to PONFERRADA"
   ]
  },
  {
   "cell_type": "code",
   "execution_count": 154,
   "metadata": {},
   "outputs": [
    {
     "data": {
      "text/html": [
       "<div>\n",
       "<style scoped>\n",
       "    .dataframe tbody tr th:only-of-type {\n",
       "        vertical-align: middle;\n",
       "    }\n",
       "\n",
       "    .dataframe tbody tr th {\n",
       "        vertical-align: top;\n",
       "    }\n",
       "\n",
       "    .dataframe thead th {\n",
       "        text-align: right;\n",
       "    }\n",
       "</style>\n",
       "<table border=\"1\" class=\"dataframe\">\n",
       "  <thead>\n",
       "    <tr style=\"text-align: right;\">\n",
       "      <th></th>\n",
       "      <th>index</th>\n",
       "      <th>origin</th>\n",
       "      <th>destination</th>\n",
       "      <th>train_type</th>\n",
       "      <th>price</th>\n",
       "      <th>train_class</th>\n",
       "      <th>fare</th>\n",
       "      <th>travel_time_in_hrs</th>\n",
       "    </tr>\n",
       "  </thead>\n",
       "  <tbody>\n",
       "    <tr>\n",
       "      <th>233</th>\n",
       "      <td>233</td>\n",
       "      <td>MADRID</td>\n",
       "      <td>PONFERRADA</td>\n",
       "      <td>AVE-MD</td>\n",
       "      <td>35.750000</td>\n",
       "      <td>Turista con enlace</td>\n",
       "      <td>Promo</td>\n",
       "      <td>3.883333</td>\n",
       "    </tr>\n",
       "    <tr>\n",
       "      <th>234</th>\n",
       "      <td>234</td>\n",
       "      <td>MADRID</td>\n",
       "      <td>PONFERRADA</td>\n",
       "      <td>AVE-LD</td>\n",
       "      <td>31.200000</td>\n",
       "      <td>Turista con enlace</td>\n",
       "      <td>Promo</td>\n",
       "      <td>4.200000</td>\n",
       "    </tr>\n",
       "    <tr>\n",
       "      <th>235</th>\n",
       "      <td>235</td>\n",
       "      <td>MADRID</td>\n",
       "      <td>PONFERRADA</td>\n",
       "      <td>ALVIA</td>\n",
       "      <td>33.500000</td>\n",
       "      <td>Turista</td>\n",
       "      <td>Promo</td>\n",
       "      <td>4.050000</td>\n",
       "    </tr>\n",
       "    <tr>\n",
       "      <th>236</th>\n",
       "      <td>236</td>\n",
       "      <td>MADRID</td>\n",
       "      <td>PONFERRADA</td>\n",
       "      <td>LD-MD</td>\n",
       "      <td>56.723877</td>\n",
       "      <td>Turista con enlace</td>\n",
       "      <td>Promo +</td>\n",
       "      <td>6.533333</td>\n",
       "    </tr>\n",
       "    <tr>\n",
       "      <th>237</th>\n",
       "      <td>237</td>\n",
       "      <td>MADRID</td>\n",
       "      <td>PONFERRADA</td>\n",
       "      <td>LD</td>\n",
       "      <td>42.750000</td>\n",
       "      <td>Turista con enlace</td>\n",
       "      <td>Promo +</td>\n",
       "      <td>4.200000</td>\n",
       "    </tr>\n",
       "    <tr>\n",
       "      <th>...</th>\n",
       "      <td>...</td>\n",
       "      <td>...</td>\n",
       "      <td>...</td>\n",
       "      <td>...</td>\n",
       "      <td>...</td>\n",
       "      <td>...</td>\n",
       "      <td>...</td>\n",
       "      <td>...</td>\n",
       "    </tr>\n",
       "    <tr>\n",
       "      <th>215066</th>\n",
       "      <td>215709</td>\n",
       "      <td>MADRID</td>\n",
       "      <td>PONFERRADA</td>\n",
       "      <td>AVE-LD</td>\n",
       "      <td>31.200000</td>\n",
       "      <td>Turista con enlace</td>\n",
       "      <td>Promo</td>\n",
       "      <td>4.200000</td>\n",
       "    </tr>\n",
       "    <tr>\n",
       "      <th>215067</th>\n",
       "      <td>215710</td>\n",
       "      <td>MADRID</td>\n",
       "      <td>PONFERRADA</td>\n",
       "      <td>ALVIA</td>\n",
       "      <td>33.500000</td>\n",
       "      <td>Turista</td>\n",
       "      <td>Promo</td>\n",
       "      <td>4.050000</td>\n",
       "    </tr>\n",
       "    <tr>\n",
       "      <th>215068</th>\n",
       "      <td>215711</td>\n",
       "      <td>MADRID</td>\n",
       "      <td>PONFERRADA</td>\n",
       "      <td>LD-MD</td>\n",
       "      <td>56.723877</td>\n",
       "      <td>Turista con enlace</td>\n",
       "      <td>Promo +</td>\n",
       "      <td>6.533333</td>\n",
       "    </tr>\n",
       "    <tr>\n",
       "      <th>215069</th>\n",
       "      <td>215712</td>\n",
       "      <td>MADRID</td>\n",
       "      <td>PONFERRADA</td>\n",
       "      <td>LD</td>\n",
       "      <td>42.750000</td>\n",
       "      <td>Turista con enlace</td>\n",
       "      <td>Promo +</td>\n",
       "      <td>4.200000</td>\n",
       "    </tr>\n",
       "    <tr>\n",
       "      <th>215070</th>\n",
       "      <td>215713</td>\n",
       "      <td>MADRID</td>\n",
       "      <td>PONFERRADA</td>\n",
       "      <td>LD-MD</td>\n",
       "      <td>54.100000</td>\n",
       "      <td>Turista con enlace</td>\n",
       "      <td>Flexible</td>\n",
       "      <td>3.883333</td>\n",
       "    </tr>\n",
       "  </tbody>\n",
       "</table>\n",
       "<p>2839 rows × 8 columns</p>\n",
       "</div>"
      ],
      "text/plain": [
       "         index  origin destination train_type      price         train_class  \\\n",
       "233        233  MADRID  PONFERRADA     AVE-MD  35.750000  Turista con enlace   \n",
       "234        234  MADRID  PONFERRADA     AVE-LD  31.200000  Turista con enlace   \n",
       "235        235  MADRID  PONFERRADA      ALVIA  33.500000             Turista   \n",
       "236        236  MADRID  PONFERRADA      LD-MD  56.723877  Turista con enlace   \n",
       "237        237  MADRID  PONFERRADA         LD  42.750000  Turista con enlace   \n",
       "...        ...     ...         ...        ...        ...                 ...   \n",
       "215066  215709  MADRID  PONFERRADA     AVE-LD  31.200000  Turista con enlace   \n",
       "215067  215710  MADRID  PONFERRADA      ALVIA  33.500000             Turista   \n",
       "215068  215711  MADRID  PONFERRADA      LD-MD  56.723877  Turista con enlace   \n",
       "215069  215712  MADRID  PONFERRADA         LD  42.750000  Turista con enlace   \n",
       "215070  215713  MADRID  PONFERRADA      LD-MD  54.100000  Turista con enlace   \n",
       "\n",
       "            fare  travel_time_in_hrs  \n",
       "233        Promo            3.883333  \n",
       "234        Promo            4.200000  \n",
       "235        Promo            4.050000  \n",
       "236      Promo +            6.533333  \n",
       "237      Promo +            4.200000  \n",
       "...          ...                 ...  \n",
       "215066     Promo            4.200000  \n",
       "215067     Promo            4.050000  \n",
       "215068   Promo +            6.533333  \n",
       "215069   Promo +            4.200000  \n",
       "215070  Flexible            3.883333  \n",
       "\n",
       "[2839 rows x 8 columns]"
      ]
     },
     "execution_count": 154,
     "metadata": {},
     "output_type": "execute_result"
    }
   ],
   "source": [
    "#write code here\n",
    "df4 = df[(df[\"origin\"]==\"MADRID\") & (df[\"destination\"]==\"PONFERRADA\")]\n",
    "df4"
   ]
  },
  {
   "cell_type": "markdown",
   "metadata": {},
   "source": [
    "#### Task 31: Make a plot for finding out travelling hours for each train type"
   ]
  },
  {
   "cell_type": "code",
   "execution_count": 155,
   "metadata": {
    "scrolled": true
   },
   "outputs": [
    {
     "data": {
      "image/png": "[encoded data removed]",
      "text/plain": [
       "<Figure size 720x720 with 1 Axes>"
      ]
     },
     "metadata": {},
     "output_type": "display_data"
    }
   ],
   "source": [
    "#write code here\n",
    "#write code here\n",
    "sns.barplot(x = 'train_type',y = 'travel_time_in_hrs',data = df4)\n",
    " \n",
    "# Show the plot\n",
    "plt.show()"
   ]
  },
  {
   "cell_type": "markdown",
   "metadata": {},
   "source": [
    "#### **Task 32: Show train_type vs price through boxplot**"
   ]
  },
  {
   "cell_type": "code",
   "execution_count": 156,
   "metadata": {
    "scrolled": true
   },
   "outputs": [
    {
     "data": {
      "text/plain": [
       "<seaborn.axisgrid.FacetGrid at 0x20e606fda08>"
      ]
     },
     "execution_count": 156,
     "metadata": {},
     "output_type": "execute_result"
    },
    {
     "data": {
      "image/png": "[encoded data removed]",
      "text/plain": [
       "<Figure size 1080x720 with 1 Axes>"
      ]
     },
     "metadata": {},
     "output_type": "display_data"
    }
   ],
   "source": [
    "#write code here\n",
    "sns.catplot(kind='box', x='train_type', y='price', data=df4,  height=10, aspect=1.5)\n"
   ]
  },
  {
   "cell_type": "markdown",
   "metadata": {},
   "source": [
    "# Applying Linear  Regression"
   ]
  },
  {
   "cell_type": "code",
   "execution_count": 163,
   "metadata": {},
   "outputs": [
    {
     "data": {
      "text/html": [
       "<div>\n",
       "<style scoped>\n",
       "    .dataframe tbody tr th:only-of-type {\n",
       "        vertical-align: middle;\n",
       "    }\n",
       "\n",
       "    .dataframe tbody tr th {\n",
       "        vertical-align: top;\n",
       "    }\n",
       "\n",
       "    .dataframe thead th {\n",
       "        text-align: right;\n",
       "    }\n",
       "</style>\n",
       "<table border=\"1\" class=\"dataframe\">\n",
       "  <thead>\n",
       "    <tr style=\"text-align: right;\">\n",
       "      <th></th>\n",
       "      <th>origin</th>\n",
       "      <th>destination</th>\n",
       "      <th>train_type</th>\n",
       "      <th>price</th>\n",
       "      <th>train_class</th>\n",
       "      <th>fare</th>\n",
       "      <th>travel_time_in_hrs</th>\n",
       "    </tr>\n",
       "  </thead>\n",
       "  <tbody>\n",
       "    <tr>\n",
       "      <th>0</th>\n",
       "      <td>2</td>\n",
       "      <td>1</td>\n",
       "      <td>11</td>\n",
       "      <td>59.50</td>\n",
       "      <td>4</td>\n",
       "      <td>1</td>\n",
       "      <td>4.700000</td>\n",
       "    </tr>\n",
       "    <tr>\n",
       "      <th>1</th>\n",
       "      <td>2</td>\n",
       "      <td>1</td>\n",
       "      <td>11</td>\n",
       "      <td>34.65</td>\n",
       "      <td>4</td>\n",
       "      <td>4</td>\n",
       "      <td>5.800000</td>\n",
       "    </tr>\n",
       "    <tr>\n",
       "      <th>2</th>\n",
       "      <td>2</td>\n",
       "      <td>1</td>\n",
       "      <td>12</td>\n",
       "      <td>39.95</td>\n",
       "      <td>4</td>\n",
       "      <td>4</td>\n",
       "      <td>5.916667</td>\n",
       "    </tr>\n",
       "    <tr>\n",
       "      <th>3</th>\n",
       "      <td>2</td>\n",
       "      <td>1</td>\n",
       "      <td>11</td>\n",
       "      <td>40.60</td>\n",
       "      <td>4</td>\n",
       "      <td>4</td>\n",
       "      <td>4.983333</td>\n",
       "    </tr>\n",
       "    <tr>\n",
       "      <th>4</th>\n",
       "      <td>2</td>\n",
       "      <td>1</td>\n",
       "      <td>0</td>\n",
       "      <td>27.90</td>\n",
       "      <td>2</td>\n",
       "      <td>3</td>\n",
       "      <td>4.133333</td>\n",
       "    </tr>\n",
       "  </tbody>\n",
       "</table>\n",
       "</div>"
      ],
      "text/plain": [
       "   origin  destination  train_type  price  train_class  fare  \\\n",
       "0       2            1          11  59.50            4     1   \n",
       "1       2            1          11  34.65            4     4   \n",
       "2       2            1          12  39.95            4     4   \n",
       "3       2            1          11  40.60            4     4   \n",
       "4       2            1           0  27.90            2     3   \n",
       "\n",
       "   travel_time_in_hrs  \n",
       "0            4.700000  \n",
       "1            5.800000  \n",
       "2            5.916667  \n",
       "3            4.983333  \n",
       "4            4.133333  "
      ]
     },
     "execution_count": 163,
     "metadata": {},
     "output_type": "execute_result"
    }
   ],
   "source": [
    "df.head()"
   ]
  },
  {
   "cell_type": "markdown",
   "metadata": {},
   "source": [
    "#### Task 33: Import LabelEncoder library from sklearn "
   ]
  },
  {
   "cell_type": "code",
   "execution_count": 159,
   "metadata": {},
   "outputs": [],
   "source": [
    "#write code here\n",
    "from sklearn import preprocessing"
   ]
  },
  {
   "cell_type": "markdown",
   "metadata": {},
   "source": [
    "**Data Encoding**"
   ]
  },
  {
   "cell_type": "code",
   "execution_count": 160,
   "metadata": {},
   "outputs": [],
   "source": [
    "lab_en = preprocessing.LabelEncoder()\n",
    "df.iloc[:,1] = lab_en.fit_transform(df.iloc[:,1])\n",
    "df.iloc[:,2] = lab_en.fit_transform(df.iloc[:,2])\n",
    "df.iloc[:,3] = lab_en.fit_transform(df.iloc[:,3])\n",
    "df.iloc[:,5] = lab_en.fit_transform(df.iloc[:,5])\n",
    "df.iloc[:,6] = lab_en.fit_transform(df.iloc[:,6])"
   ]
  },
  {
   "cell_type": "code",
   "execution_count": 162,
   "metadata": {},
   "outputs": [],
   "source": [
    "df.drop(['index'], axis=1, inplace= True)"
   ]
  },
  {
   "cell_type": "markdown",
   "metadata": {},
   "source": [
    "#### Task 34: Separate the dependant and independant variables"
   ]
  },
  {
   "cell_type": "code",
   "execution_count": 171,
   "metadata": {},
   "outputs": [
    {
     "name": "stdout",
     "output_type": "stream",
     "text": [
      "(215266, 6)\n",
      "(215266, 1)\n"
     ]
    }
   ],
   "source": [
    "#write code here\n",
    "X = df.drop(['price'], axis=1)\n",
    "Y = df[[\"price\"]]\n",
    "print(X.shape)\n",
    "print(Y.shape)"
   ]
  },
  {
   "cell_type": "markdown",
   "metadata": {},
   "source": [
    "#### Task 35: Import test_train_split from sklearn"
   ]
  },
  {
   "cell_type": "code",
   "execution_count": 172,
   "metadata": {},
   "outputs": [],
   "source": [
    "#write code here\n",
    "from sklearn.model_selection import train_test_split"
   ]
  },
  {
   "cell_type": "markdown",
   "metadata": {},
   "source": [
    "#### Task 36:**Split the data into training and test set**"
   ]
  },
  {
   "cell_type": "code",
   "execution_count": null,
   "metadata": {},
   "outputs": [],
   "source": [
    "## write code here\n",
    "X_train,X_test,Y_train,Y_test = train_test_split(X, Y, test_size=0.20, random_state=45,shuffle=True)\n",
    "print(X_train.shape, Y_train.shape)\n",
    "print(X_test.shape, Y_test.shape)"
   ]
  },
  {
   "cell_type": "markdown",
   "metadata": {},
   "source": [
    "#### Task 37: Import LinearRegression library from sklearn"
   ]
  },
  {
   "cell_type": "code",
   "execution_count": 191,
   "metadata": {},
   "outputs": [],
   "source": [
    "#write code here\n",
    "from sklearn.linear_model import LinearRegression\n"
   ]
  },
  {
   "cell_type": "markdown",
   "metadata": {},
   "source": [
    "#### Task 38: Make an object of LinearRegression( ) and train it using the training data set"
   ]
  },
  {
   "cell_type": "code",
   "execution_count": 192,
   "metadata": {},
   "outputs": [],
   "source": [
    "#write code here\n",
    "lr = LinearRegression()"
   ]
  },
  {
   "cell_type": "code",
   "execution_count": 193,
   "metadata": {},
   "outputs": [
    {
     "data": {
      "text/plain": [
       "LinearRegression()"
      ]
     },
     "execution_count": 193,
     "metadata": {},
     "output_type": "execute_result"
    }
   ],
   "source": [
    "#write code here\n",
    "lr.fit(X_train, Y_train)"
   ]
  },
  {
   "cell_type": "markdown",
   "metadata": {},
   "source": [
    "#### Task 39: Find out the predictions using test data set."
   ]
  },
  {
   "cell_type": "code",
   "execution_count": 194,
   "metadata": {},
   "outputs": [
    {
     "data": {
      "text/plain": [
       "array([[48.28410966],\n",
       "       [28.42461352],\n",
       "       [28.60639944],\n",
       "       ...,\n",
       "       [56.76486565],\n",
       "       [33.5845405 ],\n",
       "       [79.84770281]])"
      ]
     },
     "execution_count": 194,
     "metadata": {},
     "output_type": "execute_result"
    }
   ],
   "source": [
    "#write code here\n",
    "lr_predict = lr.predict(X_test)\n",
    "lr_predict"
   ]
  },
  {
   "cell_type": "markdown",
   "metadata": {},
   "source": [
    "#### Task 40: Find out the predictions using training data set."
   ]
  },
  {
   "cell_type": "code",
   "execution_count": 195,
   "metadata": {},
   "outputs": [],
   "source": [
    "#write code here\n",
    "lr_predict_train = lr.predict(X_train)\n"
   ]
  },
  {
   "cell_type": "markdown",
   "metadata": {},
   "source": [
    "#### Task 41: Import r2_score library form sklearn"
   ]
  },
  {
   "cell_type": "code",
   "execution_count": 196,
   "metadata": {},
   "outputs": [],
   "source": [
    "#write code here\n",
    "from sklearn.metrics import r2_score"
   ]
  },
  {
   "cell_type": "markdown",
   "metadata": {},
   "source": [
    "#### Task 42: Find out the R2 Score for test data and print it."
   ]
  },
  {
   "cell_type": "code",
   "execution_count": 197,
   "metadata": {},
   "outputs": [
    {
     "data": {
      "text/plain": [
       "0.723220515970735"
      ]
     },
     "execution_count": 197,
     "metadata": {},
     "output_type": "execute_result"
    }
   ],
   "source": [
    "#write code here\n",
    "lr_r2_test=r2_score(Y_test,lr_predict)\n",
    "lr_r2_test"
   ]
  },
  {
   "cell_type": "markdown",
   "metadata": {},
   "source": [
    "#### Task 43: Find out the R2 Score for training data and print it."
   ]
  },
  {
   "cell_type": "code",
   "execution_count": 189,
   "metadata": {},
   "outputs": [
    {
     "data": {
      "text/plain": [
       "0.7250571229406206"
      ]
     },
     "execution_count": 189,
     "metadata": {},
     "output_type": "execute_result"
    }
   ],
   "source": [
    "lr_r2_train = r2_score(Y_train,lr_predict_train)\n",
    "lr_r2_train"
   ]
  },
  {
   "cell_type": "markdown",
   "metadata": {},
   "source": [
    "Comaparing training and testing R2 scores"
   ]
  },
  {
   "cell_type": "code",
   "execution_count": 200,
   "metadata": {},
   "outputs": [
    {
     "name": "stdout",
     "output_type": "stream",
     "text": [
      "R2 score for Linear Regression Training Data is:  0.7250571229406206\n",
      "R2 score for Linear Regression Testing Data is:  0.723220515970735\n"
     ]
    }
   ],
   "source": [
    "print('R2 score for Linear Regression Training Data is: ', lr_r2_train)\n",
    "print('R2 score for Linear Regression Testing Data is: ', lr_r2_test)"
   ]
  },
  {
   "cell_type": "markdown",
   "metadata": {},
   "source": [
    "# Applying Polynomial Regression"
   ]
  },
  {
   "cell_type": "markdown",
   "metadata": {},
   "source": [
    "#### Task 44: Import PolynomialFeatures from sklearn"
   ]
  },
  {
   "cell_type": "code",
   "execution_count": 199,
   "metadata": {},
   "outputs": [],
   "source": [
    "#write code here\n",
    "from sklearn.preprocessing import PolynomialFeatures"
   ]
  },
  {
   "cell_type": "markdown",
   "metadata": {},
   "source": [
    "#### Task 45: Make and object of default Polynomial Features"
   ]
  },
  {
   "cell_type": "code",
   "execution_count": 202,
   "metadata": {},
   "outputs": [],
   "source": [
    "#write code here\n",
    "poly_reg = PolynomialFeatures(degree=2)"
   ]
  },
  {
   "cell_type": "markdown",
   "metadata": {},
   "source": [
    "#### Task 46: Transform the features to higher degree features."
   ]
  },
  {
   "cell_type": "code",
   "execution_count": 203,
   "metadata": {},
   "outputs": [],
   "source": [
    "#write code here\n",
    "X_train_poly = poly_reg.fit_transform(X_train)"
   ]
  },
  {
   "cell_type": "code",
   "execution_count": 204,
   "metadata": {},
   "outputs": [],
   "source": [
    "X_test_poly = poly_reg.fit_transform(X_test)"
   ]
  },
  {
   "cell_type": "markdown",
   "metadata": {},
   "source": [
    "#### Task 47: Fit the transformed features to Linear Regression"
   ]
  },
  {
   "cell_type": "code",
   "execution_count": 207,
   "metadata": {},
   "outputs": [
    {
     "data": {
      "text/plain": [
       "LinearRegression()"
      ]
     },
     "execution_count": 207,
     "metadata": {},
     "output_type": "execute_result"
    }
   ],
   "source": [
    "#write code here\n",
    "poly_model = LinearRegression()\n",
    "poly_model.fit(X_train_poly, Y_train)"
   ]
  },
  {
   "cell_type": "markdown",
   "metadata": {},
   "source": [
    "#### Task 48: Find the predictions on the data set"
   ]
  },
  {
   "cell_type": "code",
   "execution_count": 209,
   "metadata": {},
   "outputs": [],
   "source": [
    "#write code here\n",
    "y_train_predicted= poly_model.predict(X_train_poly)\n",
    "y_test_predict =  poly_model.predict(X_test_poly)"
   ]
  },
  {
   "cell_type": "markdown",
   "metadata": {},
   "source": [
    "#### Task 49: Evaluate R2 score for training data set"
   ]
  },
  {
   "cell_type": "code",
   "execution_count": 211,
   "metadata": {},
   "outputs": [
    {
     "data": {
      "text/plain": [
       "0.8211580573762667"
      ]
     },
     "execution_count": 211,
     "metadata": {},
     "output_type": "execute_result"
    }
   ],
   "source": [
    "#evaluating the model on training dataset\n",
    "#write code here\n",
    "r2_train = r2_score(Y_train, y_train_predicted)\n",
    "r2_train"
   ]
  },
  {
   "cell_type": "markdown",
   "metadata": {},
   "source": [
    "#### Task 50: Evaluate R2 score for test data set"
   ]
  },
  {
   "cell_type": "code",
   "execution_count": 215,
   "metadata": {},
   "outputs": [
    {
     "data": {
      "text/plain": [
       "0.8174141683613698"
      ]
     },
     "execution_count": 215,
     "metadata": {},
     "output_type": "execute_result"
    }
   ],
   "source": [
    "# evaluating the model on test dataset\n",
    "#write code here\n",
    "r2_test = r2_score(Y_test, y_test_predict)\n",
    "r2_test"
   ]
  },
  {
   "cell_type": "markdown",
   "metadata": {},
   "source": [
    "Comaparing training and testing R2 scores"
   ]
  },
  {
   "cell_type": "code",
   "execution_count": 216,
   "metadata": {
    "scrolled": true
   },
   "outputs": [
    {
     "name": "stdout",
     "output_type": "stream",
     "text": [
      "The r2 score for training set is:  0.8211580573762667\n",
      "The r2 score for testing set is:  0.8174141683613698\n"
     ]
    }
   ],
   "source": [
    "#write code here\n",
    "print ('The r2 score for training set is: ',r2_train)\n",
    "print ('The r2 score for testing set is: ',r2_test)"
   ]
  },
  {
   "cell_type": "markdown",
   "metadata": {},
   "source": [
    "#### Task 51: Select the best model"
   ]
  },
  {
   "cell_type": "markdown",
   "metadata": {},
   "source": [
    "**Question: Which model gives the best result for price prediction? Find out the complexity using R2 score and give your answer.**<br>\n",
    "*Hint: Use for loop for finding the best degree and model complexity for polynomial regression model*"
   ]
  },
  {
   "cell_type": "code",
   "execution_count": 221,
   "metadata": {},
   "outputs": [
    {
     "name": "stdout",
     "output_type": "stream",
     "text": [
      "R2 Train [0.7275246013681849, 0.8211580573762667, 0.845973695758847, 0.8638136912846885, 0.8699016929629838]\n",
      "R2 Test [0.7232205159707374, 0.8174141683613698, 0.8418781120028614, -2.004176029320205, -1850002.525515122]\n"
     ]
    }
   ],
   "source": [
    "#write code here\n",
    "r2_train=[]\n",
    "r2_test=[]\n",
    "for i in range(1,6):\n",
    "    poly_reg = PolynomialFeatures(degree=i)\n",
    "    \n",
    "    X_tr_poly,X_tst_poly = poly_reg.fit_transform(X_train),poly_reg.fit_transform(X_test)\n",
    "    poly = LinearRegression()\n",
    "    poly.fit(X_tr_poly, Y_train)\n",
    "   \n",
    "    y_tr_predicted= poly.predict(X_tr_poly)\n",
    "    y_tst_predict = poly.predict(X_tst_poly)\n",
    "    r2_train.append(r2_score(Y_train, y_tr_predicted))\n",
    "    r2_test.append(r2_score(Y_test, y_tst_predict))\n",
    "    \n",
    "print ('R2 Train', r2_train)\n",
    "print ('R2 Test', r2_test)"
   ]
  },
  {
   "cell_type": "markdown",
   "metadata": {},
   "source": [
    "#### Plotting the model"
   ]
  },
  {
   "cell_type": "code",
   "execution_count": 222,
   "metadata": {},
   "outputs": [
    {
     "data": {
      "image/png": "[encoded data removed]",
      "text/plain": [
       "<Figure size 1296x360 with 2 Axes>"
      ]
     },
     "metadata": {},
     "output_type": "display_data"
    }
   ],
   "source": [
    "plt.figure(figsize=(18,5))\n",
    "sns.set_context('poster')\n",
    "plt.subplot(1,2,1)\n",
    "sns.lineplot(x=list(range(1,6)), y=r2_train, label='Training');\n",
    "plt.subplot(1,2,2)\n",
    "sns.lineplot(x=list(range(1,6)), y=r2_test, label='Testing');"
   ]
  },
  {
   "cell_type": "markdown",
   "metadata": {},
   "source": [
    "**Answer**"
   ]
  },
  {
   "cell_type": "markdown",
   "metadata": {},
   "source": [
    "As it is clearly seen from graph that increasing the degree from 1 to 2 it has increased the training score 72.75 % to 82.11 so does tesing R2 score of 72.32 to 81.74\n",
    "\n",
    "We know the limitation of R2 score that with the increase of features R2 score increases so with Degree 3,4 and 5 the raining R2 has increased from 84.59%, 86.38136912846885%, 86.99016929629838% respectively\n",
    "\n",
    "Whearas the testing score on degree 3 has increased to 84.18781120028614% but on degree 4 the R2 score of testing fell to -2.004176029320205% and further -1850002.525515122"
   ]
  }
 ],
 "metadata": {
  "kernelspec": {
   "display_name": "Python 3",
   "language": "python",
   "name": "python3"
  },
  "language_info": {
   "codemirror_mode": {
    "name": "ipython",
    "version": 3
   },
   "file_extension": ".py",
   "mimetype": "text/x-python",
   "name": "python",
   "nbconvert_exporter": "python",
   "pygments_lexer": "ipython3",
   "version": "3.7.6"
  }
 },
 "nbformat": 4,
 "nbformat_minor": 2
}
